{
 "cells": [
  {
   "cell_type": "markdown",
   "metadata": {},
   "source": [
    "# Part II of Project 2: - Ames Housing Data and Kaggle Challenge\n",
    "This notebook is a continuation from [Part I of Project 2: - Ames Housing Data and Kaggle Challenge](./part1_dataprep.ipynb)."
   ]
  },
  {
   "cell_type": "markdown",
   "metadata": {},
   "source": [
    "## Data Dictionary"
   ]
  },
  {
   "cell_type": "markdown",
   "metadata": {},
   "source": [
    "The data dictionary can be referenced [here](http://jse.amstat.org/v19n3/decock/DataDocumentation.txt)."
   ]
  },
  {
   "cell_type": "markdown",
   "metadata": {},
   "source": [
    "## Contents:\n",
    "- [Define the functions to be used](#Define-the-functions-to-be-used)\n",
    "- [Pre-processing](#Pre-processing)\n",
    "    - [Train/test split](#Train/test-split)\n",
    "    - [Scale the data](#Scale-the-data)\n",
    "- [Model Benchmarks](#Model-Benchmarks)\n",
    "- [Model Tuning](#Model-Tuning)\n",
    "    - [Results after modeling](#Results-after-modeling)\n",
    "    - [RFE for feature selection](#Use-RFE-for-feature-selection)\n",
    "    - [Results using Optimal features from RFE](#Results-using-optimal-features-from-RFE)\n",
    "- [Production Model and Insights](#Production-Model-&-Insights)\n",
    "    - [Summary of the production model](#Summary-of-the-production-model:)\n",
    "- [Business Recommendations](#Business-Recommendations)"
   ]
  },
  {
   "cell_type": "code",
   "execution_count": 1,
   "metadata": {},
   "outputs": [],
   "source": [
    "import pandas as pd, numpy as np\n",
    "import matplotlib.pyplot as plt\n",
    "\n",
    "from sklearn.model_selection import train_test_split, cross_val_score\n",
    "from sklearn.linear_model import LinearRegression, Lasso, LassoCV, Ridge, RidgeCV, ElasticNet, ElasticNetCV\n",
    "from sklearn.preprocessing import StandardScaler, PolynomialFeatures\n",
    "from sklearn.metrics import mean_squared_error, r2_score\n",
    "from sklearn.feature_selection import RFE, RFECV\n",
    "\n",
    "import warnings\n",
    "warnings.filterwarnings('ignore')"
   ]
  },
  {
   "cell_type": "markdown",
   "metadata": {},
   "source": [
    "Read in the train and test data."
   ]
  },
  {
   "cell_type": "code",
   "execution_count": 2,
   "metadata": {},
   "outputs": [],
   "source": [
    "train_final = pd.read_csv('./datasets/train_final.csv')\n",
    "test_final = pd.read_csv('./datasets/test_final.csv')"
   ]
  },
  {
   "cell_type": "markdown",
   "metadata": {},
   "source": [
    "Next prepare the X and y from train data for train_test_split and X from test data."
   ]
  },
  {
   "cell_type": "code",
   "execution_count": 3,
   "metadata": {},
   "outputs": [],
   "source": [
    "# create X and y for train_test_split input\n",
    "X_train_final = train_final.drop(columns=['saleprice','id'], axis=1)\n",
    "y_train_final = train_final['saleprice']\n",
    "\n",
    "# drop saleprice column from test data after it was created during align with train data\n",
    "X_kaggle = test_final.drop(columns=['saleprice','id'], axis=1)"
   ]
  },
  {
   "cell_type": "markdown",
   "metadata": {},
   "source": [
    "### Define the functions to be used\n",
    "[Back to Contents](#Contents:)\n",
    "\n",
    "\n",
    "Two functions have been defined.\n",
    "- r2_adj calculates and returns the adjusted R2 value\n",
    "\n",
    "\n",
    "- get_metrics fits the model needed and reports the metrics on the performance of the model"
   ]
  },
  {
   "cell_type": "code",
   "execution_count": 4,
   "metadata": {},
   "outputs": [],
   "source": [
    "# r2_adj returns the adjusted r2 value from an r2 value\n",
    "def r2_adj(r2, n, k):\n",
    "    # n is # of observations, k is number of independant variables\n",
    "    return 1 - ((1-r2)*(n-1)/(n-k-1))\n",
    "\n",
    "# get metrics will apply scaling to X variables\n",
    "def get_metrics(X_train_scaled, X_test_scaled, y_train, y_test, model, alphas=0):\n",
    "    # Get the rows and feature count needed for calculating adj r2\n",
    "    n_train = len(X_train_scaled)\n",
    "    n_test = len(X_test_scaled)\n",
    "    k = X_train_scaled.shape[1]\n",
    "    \n",
    "    if model=='lr':\n",
    "        # Create Linear Regression model\n",
    "        model = LinearRegression()\n",
    "        \n",
    "    elif model=='ridge':\n",
    "        # Create RidgeCV model for alpha selection\n",
    "        ridgeCV = RidgeCV(alphas=alphas, cv=5)\n",
    "        \n",
    "        # Get optimal alpha using RidgeCV\n",
    "        ridgeCV.fit(X_train_scaled, y_train)\n",
    "        \n",
    "        # Create Ridge model using optimal alpha\n",
    "        model = Ridge().set_params(alpha=ridgeCV.alpha_)\n",
    "        \n",
    "    elif model=='lasso':\n",
    "        # Create LassoCV model for alpha selection\n",
    "        lassoCV = LassoCV(alphas=alphas, cv=5);\n",
    "        \n",
    "        # Get optimal alpha using LassoCV\n",
    "        lassoCV.fit(X_train_scaled, y_train)\n",
    "\n",
    "        # Create Lasso model using optimal alpha\n",
    "        model = Lasso().set_params(alpha=lassoCV.alpha_)\n",
    "        \n",
    "    elif model=='enet':\n",
    "        # Create ElasticNetCV model for alpha selection  \n",
    "        enetCV = ElasticNetCV(alphas=alphas, l1_ratio=np.arange(0.1,0.9,0.1), cv=10)\n",
    "        \n",
    "        # Get optimal alpha using LassoCV\n",
    "        enetCV.fit(X_train_scaled, y_train)\n",
    "\n",
    "        # Create ElasticNet model using optimal alpha and l1_ratio\n",
    "        model = ElasticNet().set_params(alpha=enetCV.alpha_, l1_ratio=enetCV.l1_ratio_)\n",
    "\n",
    "    # estimate of test R2 using cross validation\n",
    "    cv_scores = cross_val_score(model, X_train_scaled, y_train, cv=5)\n",
    "\n",
    "    # estimate of test RMSE using cross validation\n",
    "    cv_rmse = -cross_val_score(model, X_train_scaled, y_train, cv=5, scoring='neg_root_mean_squared_error')\n",
    "    \n",
    "    # fit model\n",
    "    model.fit(X_train_scaled, y_train)\n",
    "\n",
    "    print('{} Performance for {} features.\\n'.format(model, k) + '-' * 52)\n",
    "    print('Estimate of Testing Adj. R2: {:.4f}'.format(r2_adj(cv_scores.mean(), n_train, k)))\n",
    "    print('Training Adj. R2: {:.4f}'.format(r2_adj(model.score(X_train_scaled, y_train), n_train, k)))\n",
    "    print('Test Adj. R2: {:.4f}\\n'.format(r2_adj(model.score(X_test_scaled, y_test), n_test, k)))\n",
    "\n",
    "    print('Estimate of Testing RMSE: {:.0f}'.format(cv_rmse.mean()))\n",
    "    print('Training RMSE: {:.0f}'.format(np.sqrt(mean_squared_error(y_train, model.predict(X_train_scaled)))))\n",
    "    print('Test RMSE: {:.0f}'.format(np.sqrt(mean_squared_error(y_test, model.predict(X_test_scaled)))))\n",
    "    \n",
    "    return model"
   ]
  },
  {
   "cell_type": "markdown",
   "metadata": {},
   "source": [
    "> <font size=3 color='blue'> Well done."
   ]
  },
  {
   "cell_type": "markdown",
   "metadata": {},
   "source": [
    "### Train/test split\n",
    "[Back to Contents](#Contents:)"
   ]
  },
  {
   "cell_type": "code",
   "execution_count": 5,
   "metadata": {},
   "outputs": [],
   "source": [
    "# train-test split the data\n",
    "X_train, X_test, y_train, y_test = train_test_split(X_train_final, y_train_final,random_state=42,test_size=0.33)"
   ]
  },
  {
   "cell_type": "code",
   "execution_count": 6,
   "metadata": {},
   "outputs": [
    {
     "data": {
      "text/plain": [
       "(126, 126, 126)"
      ]
     },
     "execution_count": 6,
     "metadata": {},
     "output_type": "execute_result"
    }
   ],
   "source": [
    "len(X_train.columns), len(X_test.columns), len(X_kaggle.columns)"
   ]
  },
  {
   "cell_type": "markdown",
   "metadata": {},
   "source": [
    "### Scale the data\n",
    "[Back to Content](#Contents:)"
   ]
  },
  {
   "cell_type": "code",
   "execution_count": 7,
   "metadata": {},
   "outputs": [],
   "source": [
    "ss = StandardScaler()\n",
    "\n",
    "# fit and transform using X_train, apply the same scale to X_test\n",
    "X_train_scaled = ss.fit_transform(X_train)\n",
    "X_test_scaled = ss.transform(X_test)\n",
    "\n",
    "# also transform X_kaggle\n",
    "X_kaggle_scaled = ss.transform(X_kaggle)"
   ]
  },
  {
   "cell_type": "code",
   "execution_count": 8,
   "metadata": {},
   "outputs": [
    {
     "data": {
      "text/html": [
       "<div>\n",
       "<style scoped>\n",
       "    .dataframe tbody tr th:only-of-type {\n",
       "        vertical-align: middle;\n",
       "    }\n",
       "\n",
       "    .dataframe tbody tr th {\n",
       "        vertical-align: top;\n",
       "    }\n",
       "\n",
       "    .dataframe thead th {\n",
       "        text-align: right;\n",
       "    }\n",
       "</style>\n",
       "<table border=\"1\" class=\"dataframe\">\n",
       "  <thead>\n",
       "    <tr style=\"text-align: right;\">\n",
       "      <th></th>\n",
       "      <th>lot_shape</th>\n",
       "      <th>overall_qual</th>\n",
       "      <th>overall_cond</th>\n",
       "      <th>exter_qual</th>\n",
       "      <th>bsmt_qual</th>\n",
       "      <th>bsmt_exposure</th>\n",
       "      <th>heating_qc</th>\n",
       "      <th>bedroom_abvgr</th>\n",
       "      <th>kitchen_qual</th>\n",
       "      <th>totrms_abvgrd</th>\n",
       "      <th>...</th>\n",
       "      <th>foundation_Wood</th>\n",
       "      <th>garage_type_Attchd</th>\n",
       "      <th>garage_type_Basment</th>\n",
       "      <th>garage_type_BuiltIn</th>\n",
       "      <th>garage_type_CarPort</th>\n",
       "      <th>garage_type_Detchd</th>\n",
       "      <th>garage_type_NA</th>\n",
       "      <th>garage_finish_1</th>\n",
       "      <th>garage_finish_2</th>\n",
       "      <th>garage_finish_3</th>\n",
       "    </tr>\n",
       "  </thead>\n",
       "  <tbody>\n",
       "    <tr>\n",
       "      <th>0</th>\n",
       "      <td>0.69455</td>\n",
       "      <td>-2.293842</td>\n",
       "      <td>-1.433157</td>\n",
       "      <td>-0.659078</td>\n",
       "      <td>-3.930840</td>\n",
       "      <td>-1.532087</td>\n",
       "      <td>-0.124515</td>\n",
       "      <td>-1.032578</td>\n",
       "      <td>-0.747458</td>\n",
       "      <td>-0.212359</td>\n",
       "      <td>...</td>\n",
       "      <td>-0.039118</td>\n",
       "      <td>-1.199006</td>\n",
       "      <td>-0.114708</td>\n",
       "      <td>-0.241258</td>\n",
       "      <td>-0.073324</td>\n",
       "      <td>1.632993</td>\n",
       "      <td>-0.243026</td>\n",
       "      <td>1.147525</td>\n",
       "      <td>-0.628906</td>\n",
       "      <td>-0.545274</td>\n",
       "    </tr>\n",
       "    <tr>\n",
       "      <th>1</th>\n",
       "      <td>-1.08464</td>\n",
       "      <td>0.749887</td>\n",
       "      <td>-0.514898</td>\n",
       "      <td>-0.659078</td>\n",
       "      <td>0.627715</td>\n",
       "      <td>-0.557596</td>\n",
       "      <td>-1.149613</td>\n",
       "      <td>-1.032578</td>\n",
       "      <td>-0.747458</td>\n",
       "      <td>-0.212359</td>\n",
       "      <td>...</td>\n",
       "      <td>-0.039118</td>\n",
       "      <td>0.834024</td>\n",
       "      <td>-0.114708</td>\n",
       "      <td>-0.241258</td>\n",
       "      <td>-0.073324</td>\n",
       "      <td>-0.612372</td>\n",
       "      <td>-0.243026</td>\n",
       "      <td>-0.871441</td>\n",
       "      <td>-0.628906</td>\n",
       "      <td>1.833939</td>\n",
       "    </tr>\n",
       "    <tr>\n",
       "      <th>2</th>\n",
       "      <td>-1.08464</td>\n",
       "      <td>1.510820</td>\n",
       "      <td>-0.514898</td>\n",
       "      <td>1.168746</td>\n",
       "      <td>1.767354</td>\n",
       "      <td>0.416895</td>\n",
       "      <td>0.900583</td>\n",
       "      <td>0.237765</td>\n",
       "      <td>0.835750</td>\n",
       "      <td>1.239224</td>\n",
       "      <td>...</td>\n",
       "      <td>-0.039118</td>\n",
       "      <td>0.834024</td>\n",
       "      <td>-0.114708</td>\n",
       "      <td>-0.241258</td>\n",
       "      <td>-0.073324</td>\n",
       "      <td>-0.612372</td>\n",
       "      <td>-0.243026</td>\n",
       "      <td>-0.871441</td>\n",
       "      <td>1.590063</td>\n",
       "      <td>-0.545274</td>\n",
       "    </tr>\n",
       "    <tr>\n",
       "      <th>3</th>\n",
       "      <td>0.69455</td>\n",
       "      <td>-0.011045</td>\n",
       "      <td>-0.514898</td>\n",
       "      <td>-0.659078</td>\n",
       "      <td>-0.511923</td>\n",
       "      <td>-0.557596</td>\n",
       "      <td>-0.124515</td>\n",
       "      <td>-1.032578</td>\n",
       "      <td>-0.747458</td>\n",
       "      <td>-0.938151</td>\n",
       "      <td>...</td>\n",
       "      <td>-0.039118</td>\n",
       "      <td>-1.199006</td>\n",
       "      <td>-0.114708</td>\n",
       "      <td>-0.241258</td>\n",
       "      <td>-0.073324</td>\n",
       "      <td>1.632993</td>\n",
       "      <td>-0.243026</td>\n",
       "      <td>1.147525</td>\n",
       "      <td>-0.628906</td>\n",
       "      <td>-0.545274</td>\n",
       "    </tr>\n",
       "    <tr>\n",
       "      <th>4</th>\n",
       "      <td>0.69455</td>\n",
       "      <td>-0.011045</td>\n",
       "      <td>-0.514898</td>\n",
       "      <td>-0.659078</td>\n",
       "      <td>-0.511923</td>\n",
       "      <td>-0.557596</td>\n",
       "      <td>0.900583</td>\n",
       "      <td>-1.032578</td>\n",
       "      <td>-0.747458</td>\n",
       "      <td>0.513433</td>\n",
       "      <td>...</td>\n",
       "      <td>-0.039118</td>\n",
       "      <td>-1.199006</td>\n",
       "      <td>-0.114708</td>\n",
       "      <td>-0.241258</td>\n",
       "      <td>-0.073324</td>\n",
       "      <td>1.632993</td>\n",
       "      <td>-0.243026</td>\n",
       "      <td>1.147525</td>\n",
       "      <td>-0.628906</td>\n",
       "      <td>-0.545274</td>\n",
       "    </tr>\n",
       "  </tbody>\n",
       "</table>\n",
       "<p>5 rows × 126 columns</p>\n",
       "</div>"
      ],
      "text/plain": [
       "   lot_shape  overall_qual  overall_cond  exter_qual  bsmt_qual  \\\n",
       "0    0.69455     -2.293842     -1.433157   -0.659078  -3.930840   \n",
       "1   -1.08464      0.749887     -0.514898   -0.659078   0.627715   \n",
       "2   -1.08464      1.510820     -0.514898    1.168746   1.767354   \n",
       "3    0.69455     -0.011045     -0.514898   -0.659078  -0.511923   \n",
       "4    0.69455     -0.011045     -0.514898   -0.659078  -0.511923   \n",
       "\n",
       "   bsmt_exposure  heating_qc  bedroom_abvgr  kitchen_qual  totrms_abvgrd  ...  \\\n",
       "0      -1.532087   -0.124515      -1.032578     -0.747458      -0.212359  ...   \n",
       "1      -0.557596   -1.149613      -1.032578     -0.747458      -0.212359  ...   \n",
       "2       0.416895    0.900583       0.237765      0.835750       1.239224  ...   \n",
       "3      -0.557596   -0.124515      -1.032578     -0.747458      -0.938151  ...   \n",
       "4      -0.557596    0.900583      -1.032578     -0.747458       0.513433  ...   \n",
       "\n",
       "   foundation_Wood  garage_type_Attchd  garage_type_Basment  \\\n",
       "0        -0.039118           -1.199006            -0.114708   \n",
       "1        -0.039118            0.834024            -0.114708   \n",
       "2        -0.039118            0.834024            -0.114708   \n",
       "3        -0.039118           -1.199006            -0.114708   \n",
       "4        -0.039118           -1.199006            -0.114708   \n",
       "\n",
       "   garage_type_BuiltIn  garage_type_CarPort  garage_type_Detchd  \\\n",
       "0            -0.241258            -0.073324            1.632993   \n",
       "1            -0.241258            -0.073324           -0.612372   \n",
       "2            -0.241258            -0.073324           -0.612372   \n",
       "3            -0.241258            -0.073324            1.632993   \n",
       "4            -0.241258            -0.073324            1.632993   \n",
       "\n",
       "   garage_type_NA  garage_finish_1  garage_finish_2  garage_finish_3  \n",
       "0       -0.243026         1.147525        -0.628906        -0.545274  \n",
       "1       -0.243026        -0.871441        -0.628906         1.833939  \n",
       "2       -0.243026        -0.871441         1.590063        -0.545274  \n",
       "3       -0.243026         1.147525        -0.628906        -0.545274  \n",
       "4       -0.243026         1.147525        -0.628906        -0.545274  \n",
       "\n",
       "[5 rows x 126 columns]"
      ]
     },
     "execution_count": 8,
     "metadata": {},
     "output_type": "execute_result"
    }
   ],
   "source": [
    "pd.DataFrame(X_train_scaled, columns=X_train.columns).head()"
   ]
  },
  {
   "cell_type": "markdown",
   "metadata": {},
   "source": [
    "All columns have been standardized."
   ]
  },
  {
   "cell_type": "markdown",
   "metadata": {},
   "source": [
    "## Model Benchmarks\n",
    "[Back to Contents](#Contents:)\n",
    "\n",
    "\n",
    "Establish baseline score."
   ]
  },
  {
   "cell_type": "code",
   "execution_count": 9,
   "metadata": {},
   "outputs": [],
   "source": [
    "# use y-mean for y-test\n",
    "y_baseline = [y_test.mean() for y in y_test]"
   ]
  },
  {
   "cell_type": "code",
   "execution_count": 10,
   "metadata": {},
   "outputs": [
    {
     "name": "stdout",
     "output_type": "stream",
     "text": [
      "LinearRegression() Performance for 126 features.\n",
      "----------------------------------------------------\n",
      "Estimate of Testing Adj. R2: -281638598537284386816.0000\n",
      "Training Adj. R2: 0.9150\n",
      "Test Adj. R2: -0.2428\n",
      "\n",
      "Estimate of Testing RMSE: 428163869000916\n",
      "Training RMSE: 17481\n",
      "Test RMSE: 846190597510615\n"
     ]
    }
   ],
   "source": [
    "# use get_metrics to return results for baseline\n",
    "model = get_metrics(X_train_scaled, X_test_scaled, y_train, y_baseline, 'lr')"
   ]
  },
  {
   "cell_type": "markdown",
   "metadata": {},
   "source": [
    "#### Baseline Scores:\n",
    "- Adj. R2: -0.2428\n",
    "- RMSE: 846190597510615"
   ]
  },
  {
   "cell_type": "markdown",
   "metadata": {},
   "source": [
    "## Model Tuning\n",
    "[Back to Contents](#Contents:)\n",
    "\n",
    "\n",
    "Fit the models and tune to the optimal setting."
   ]
  },
  {
   "cell_type": "code",
   "execution_count": 11,
   "metadata": {},
   "outputs": [
    {
     "name": "stdout",
     "output_type": "stream",
     "text": [
      "LinearRegression() Performance for 126 features.\n",
      "----------------------------------------------------\n",
      "Estimate of Testing Adj. R2: -281638598537284386816.0000\n",
      "Training Adj. R2: 0.9150\n",
      "Test Adj. R2: -194845734913496023040.0000\n",
      "\n",
      "Estimate of Testing RMSE: 428163869000916\n",
      "Training RMSE: 17481\n",
      "Test RMSE: 846190597519207\n"
     ]
    }
   ],
   "source": [
    "# LR\n",
    "lr_model126 = get_metrics(X_train_scaled, X_test_scaled, y_train, y_test, 'lr')"
   ]
  },
  {
   "cell_type": "markdown",
   "metadata": {},
   "source": [
    "#### Observations for LR model:\n",
    "- Adj. R2 on test data is negative, the model is performing worse than the baseline model.\n",
    "\n",
    "\n",
    "- RMSE is in the trillions! too much overfitting.\n",
    "\n",
    "\n",
    "- No further tuning possible for hyperparameters"
   ]
  },
  {
   "cell_type": "code",
   "execution_count": 12,
   "metadata": {
    "scrolled": true
   },
   "outputs": [
    {
     "data": {
      "text/plain": [
       "array([   1.        ,    1.03532184,    1.07189132,    1.1097525 ,\n",
       "          1.148951  ,    1.18953407,    1.2315506 ,    1.27505124,\n",
       "          1.3200884 ,    1.36671636,    1.4149913 ,    1.4649714 ,\n",
       "          1.51671689,    1.57029012,    1.62575567,    1.68318035,\n",
       "          1.74263339,    1.80418641,    1.8679136 ,    1.93389175,\n",
       "          2.00220037,    2.07292178,    2.1461412 ,    2.22194686,\n",
       "          2.30043012,    2.38168555,    2.46581108,    2.55290807,\n",
       "          2.64308149,    2.73644   ,    2.8330961 ,    2.93316628,\n",
       "          3.03677112,    3.14403547,    3.2550886 ,    3.37006433,\n",
       "          3.48910121,    3.6123427 ,    3.7399373 ,    3.87203878,\n",
       "          4.00880633,    4.15040476,    4.2970047 ,    4.44878283,\n",
       "          4.60592204,    4.7686117 ,    4.93704785,    5.11143348,\n",
       "          5.29197874,    5.47890118,    5.67242607,    5.87278661,\n",
       "          6.08022426,    6.29498899,    6.5173396 ,    6.74754405,\n",
       "          6.98587975,    7.2326339 ,    7.48810386,    7.75259749,\n",
       "          8.02643352,    8.30994195,    8.60346442,    8.90735464,\n",
       "          9.22197882,    9.54771611,    9.88495905,   10.23411402,\n",
       "         10.59560179,   10.96985798,   11.35733358,   11.75849554,\n",
       "         12.17382728,   12.6038293 ,   13.04901978,   13.50993521,\n",
       "         13.98713103,   14.48118228,   14.99268433,   15.52225357,\n",
       "         16.07052818,   16.63816886,   17.22585965,   17.83430877,\n",
       "         18.46424943,   19.11644075,   19.79166868,   20.4907469 ,\n",
       "         21.21451785,   21.96385372,   22.73965752,   23.54286414,\n",
       "         24.3744415 ,   25.2353917 ,   26.12675226,   27.0495973 ,\n",
       "         28.00503894,   28.99422854,   30.01835814,   31.07866188,\n",
       "         32.1764175 ,   33.31294788,   34.4896226 ,   35.70785965,\n",
       "         36.96912707,   38.27494479,   39.62688639,   41.02658106,\n",
       "         42.47571553,   43.97603609,   45.52935075,   47.13753134,\n",
       "         48.80251584,   50.52631065,   52.31099308,   54.15871378,\n",
       "         56.07169938,   58.05225516,   60.10276782,   62.22570837,\n",
       "         64.42363509,   66.69919663,   69.0551352 ,   71.49428987,\n",
       "         74.01959997,   76.63410868,   79.34096666,   82.14343585,\n",
       "         85.04489342,   88.04883582,   91.158883  ,   94.37878278,\n",
       "         97.71241535,  101.16379798,  104.7370898 ,  108.43659687,\n",
       "        112.26677735,  116.23224687,  120.33778408,  124.58833643,\n",
       "        128.98902613,  133.54515629,  138.26221738,  143.14589375,\n",
       "        148.20207058,  153.43684089,  158.85651294,  164.4676178 ,\n",
       "        170.27691722,  176.29141181,  182.51834943,  188.96523397,\n",
       "        195.63983435,  202.55019392,  209.70464013,  217.11179457,\n",
       "        224.78058335,  232.7202479 ,  240.94035602,  249.45081352,\n",
       "        258.26187607,  267.38416158,  276.82866304,  286.60676169,\n",
       "        296.73024082,  307.21129989,  318.06256928,  329.29712551,\n",
       "        340.92850697,  352.97073027,  365.4383071 ,  378.34626171,\n",
       "        391.71014908,  405.54607358,  419.87070844,  434.70131581,\n",
       "        450.05576757,  465.95256687,  482.41087042,  499.45051159,\n",
       "        517.09202429,  535.35666774,  554.26645207,  573.84416483,\n",
       "        594.1133985 ,  615.09857886,  636.82499447,  659.31882713,\n",
       "        682.60718343,  706.71812739,  731.68071434,  757.52502588,\n",
       "        784.28220613,  811.98449932,  840.66528856,  870.35913615,\n",
       "        901.10182517,  932.93040263,  965.88322412, 1000.        ])"
      ]
     },
     "execution_count": 12,
     "metadata": {},
     "output_type": "execute_result"
    }
   ],
   "source": [
    "# Ridge alphas\n",
    "alphas=np.logspace(0,3,num=200)\n",
    "alphas"
   ]
  },
  {
   "cell_type": "code",
   "execution_count": 13,
   "metadata": {},
   "outputs": [
    {
     "name": "stdout",
     "output_type": "stream",
     "text": [
      "Ridge(alpha=94.37878277775381) Performance for 126 features.\n",
      "----------------------------------------------------\n",
      "Estimate of Testing Adj. R2: 0.8914\n",
      "Training Adj. R2: 0.9119\n",
      "Test Adj. R2: 0.8706\n",
      "\n",
      "Estimate of Testing RMSE: 19624\n",
      "Training RMSE: 17791\n",
      "Test RMSE: 21804\n"
     ]
    }
   ],
   "source": [
    "# Ridge fit\n",
    "ridge_model126 = get_metrics(X_train_scaled, X_test_scaled, y_train, y_test, 'ridge', alphas)"
   ]
  },
  {
   "cell_type": "markdown",
   "metadata": {},
   "source": [
    "#### Observations for Ridge model:\n",
    "- Ridge model performs quite well on test data, with RMSE of 21804.\n",
    "\n",
    "\n",
    "- Optimal alpha found at 94.4"
   ]
  },
  {
   "cell_type": "code",
   "execution_count": 14,
   "metadata": {},
   "outputs": [
    {
     "data": {
      "text/plain": [
       "200"
      ]
     },
     "execution_count": 14,
     "metadata": {},
     "output_type": "execute_result"
    }
   ],
   "source": [
    "# Lasso alphas\n",
    "alphas=np.arange(440, 460, 0.1)\n",
    "len(alphas)"
   ]
  },
  {
   "cell_type": "code",
   "execution_count": 15,
   "metadata": {},
   "outputs": [
    {
     "name": "stdout",
     "output_type": "stream",
     "text": [
      "Lasso(alpha=448.700000000002) Performance for 126 features.\n",
      "----------------------------------------------------\n",
      "Estimate of Testing Adj. R2: 0.8916\n",
      "Training Adj. R2: 0.9078\n",
      "Test Adj. R2: 0.8696\n",
      "\n",
      "Estimate of Testing RMSE: 19570\n",
      "Training RMSE: 18207\n",
      "Test RMSE: 21888\n"
     ]
    }
   ],
   "source": [
    "# Lasso fit\n",
    "lasso_model126 = get_metrics(X_train_scaled, X_test_scaled, y_train, y_test, 'lasso', alphas)"
   ]
  },
  {
   "cell_type": "markdown",
   "metadata": {},
   "source": [
    "#### Observations for Lasso model:\n",
    "- Lasso model did not perform as well as ridge model\n",
    "\n",
    "\n",
    "- Adj. R2 is lower and RMSE is also higher.\n",
    "\n",
    "\n",
    "- Optimal alpha found at 448.7"
   ]
  },
  {
   "cell_type": "code",
   "execution_count": 16,
   "metadata": {},
   "outputs": [
    {
     "data": {
      "text/plain": [
       "array([0.09  , 0.0901, 0.0902, 0.0903, 0.0904, 0.0905, 0.0906, 0.0907,\n",
       "       0.0908, 0.0909, 0.091 , 0.0911, 0.0912, 0.0913, 0.0914, 0.0915,\n",
       "       0.0916, 0.0917, 0.0918, 0.0919, 0.092 , 0.0921, 0.0922, 0.0923,\n",
       "       0.0924, 0.0925, 0.0926, 0.0927, 0.0928, 0.0929, 0.093 , 0.0931,\n",
       "       0.0932, 0.0933, 0.0934, 0.0935, 0.0936, 0.0937, 0.0938, 0.0939,\n",
       "       0.094 , 0.0941, 0.0942, 0.0943, 0.0944, 0.0945, 0.0946, 0.0947,\n",
       "       0.0948, 0.0949, 0.095 , 0.0951, 0.0952, 0.0953, 0.0954, 0.0955,\n",
       "       0.0956, 0.0957, 0.0958, 0.0959, 0.096 , 0.0961, 0.0962, 0.0963,\n",
       "       0.0964, 0.0965, 0.0966, 0.0967, 0.0968, 0.0969, 0.097 , 0.0971,\n",
       "       0.0972, 0.0973, 0.0974, 0.0975, 0.0976, 0.0977, 0.0978, 0.0979,\n",
       "       0.098 , 0.0981, 0.0982, 0.0983, 0.0984, 0.0985, 0.0986, 0.0987,\n",
       "       0.0988, 0.0989, 0.099 , 0.0991, 0.0992, 0.0993, 0.0994, 0.0995,\n",
       "       0.0996, 0.0997, 0.0998, 0.0999, 0.1   ])"
      ]
     },
     "execution_count": 16,
     "metadata": {},
     "output_type": "execute_result"
    }
   ],
   "source": [
    "# ElasticNet alphas\n",
    "alphas = np.arange(0.09, 0.1, 0.0001)\n",
    "alphas"
   ]
  },
  {
   "cell_type": "code",
   "execution_count": 17,
   "metadata": {},
   "outputs": [
    {
     "name": "stdout",
     "output_type": "stream",
     "text": [
      "ElasticNet(alpha=0.09540000000000015, l1_ratio=0.30000000000000004) Performance for 126 features.\n",
      "----------------------------------------------------\n",
      "Estimate of Testing Adj. R2: 0.8913\n",
      "Training Adj. R2: 0.9121\n",
      "Test Adj. R2: 0.8708\n",
      "\n",
      "Estimate of Testing RMSE: 19634\n",
      "Training RMSE: 17772\n",
      "Test RMSE: 21790\n"
     ]
    }
   ],
   "source": [
    "# ElasticNet fit\n",
    "enet_model126 = get_metrics(X_train_scaled, X_test_scaled, y_train, y_test, 'enet', alphas)"
   ]
  },
  {
   "cell_type": "markdown",
   "metadata": {},
   "source": [
    "#### Observations for ElasticNet model:\n",
    "- ElasticNet model performed the best amongst all 4 models\n",
    "\n",
    "\n",
    "- Highest Adj. R2 of 0.8708 and lowest RMSE of 21790.\n",
    "\n",
    "\n",
    "- Optimal alpha found at 0.095, optimal l1_ratio is 0.3 (i.e. 0.3 for l1 and 0.7 for l2 penalization)"
   ]
  },
  {
   "cell_type": "markdown",
   "metadata": {},
   "source": [
    "### Results after modeling\n",
    "[Back to Content](#Contents:)\n",
    "\n",
    "\n",
    "On unseen data, **ElasticNet model** returned the best performance:\n",
    "- **Adj. R2 score: 0.8708**\n",
    "- **RMSE: 21790**"
   ]
  },
  {
   "cell_type": "markdown",
   "metadata": {},
   "source": [
    "Submit 1st round results to Kaggle to see how it performs on unseen data."
   ]
  },
  {
   "cell_type": "code",
   "execution_count": 18,
   "metadata": {},
   "outputs": [],
   "source": [
    "# using ridge model, get y-hat using X_test_submit data\n",
    "test_final['saleprice'] = ridge_model126.predict(X_kaggle_scaled)\n",
    "test_final[['id','saleprice']].to_csv('./output/ame_ridge_126.csv',index=False)"
   ]
  },
  {
   "cell_type": "markdown",
   "metadata": {},
   "source": [
    "**Kaggle score for Ridge model:**\n",
    "- Public: 31,550\n",
    "- Private: 25,500"
   ]
  },
  {
   "cell_type": "code",
   "execution_count": 19,
   "metadata": {},
   "outputs": [],
   "source": [
    "# using lasso model, get y-hat using test data\n",
    "test_final['saleprice'] = lasso_model126.predict(X_kaggle_scaled)\n",
    "test_final[['id','saleprice']].to_csv('./output/ame_lasso_126.csv',index=False)"
   ]
  },
  {
   "cell_type": "markdown",
   "metadata": {},
   "source": [
    "**Kaggle score for Lasso model:**\n",
    "- Public: 32,017\n",
    "- Private: 25,044"
   ]
  },
  {
   "cell_type": "code",
   "execution_count": 20,
   "metadata": {},
   "outputs": [],
   "source": [
    "# using enet model, get y-hat using test data\n",
    "test_final['saleprice'] = enet_model126.predict(X_kaggle_scaled)\n",
    "test_final[['id','saleprice']].to_csv('./output/ame_enet_126.csv',index=False)"
   ]
  },
  {
   "cell_type": "markdown",
   "metadata": {},
   "source": [
    "**Kaggle score for ElasticNet model:**\n",
    "- Public: 31,538\n",
    "- Private: 25,408"
   ]
  },
  {
   "cell_type": "markdown",
   "metadata": {},
   "source": [
    "**The Lasso model performed better on Kaggle test data though.**"
   ]
  },
  {
   "cell_type": "markdown",
   "metadata": {},
   "source": [
    "## Use RFE for feature selection\n",
    "[Back to Contents](#Contents:)\n",
    "\n",
    "\n",
    "Use Recursive Feature Elimination or RFE to determine optimal number of features with the ElasticNet model."
   ]
  },
  {
   "cell_type": "code",
   "execution_count": 21,
   "metadata": {},
   "outputs": [
    {
     "data": {
      "text/plain": [
       "55"
      ]
     },
     "execution_count": 21,
     "metadata": {},
     "output_type": "execute_result"
    }
   ],
   "source": [
    "# Use enet model with RFECV\n",
    "selector = RFECV(enet_model126, step=1, cv=5)\n",
    "selector = selector.fit(X_train_scaled, y_train)\n",
    "selector.n_features_"
   ]
  },
  {
   "cell_type": "markdown",
   "metadata": {},
   "source": [
    "55 is the optimal number of features.\n",
    "\n",
    "Which are the 55 features?"
   ]
  },
  {
   "cell_type": "code",
   "execution_count": 22,
   "metadata": {},
   "outputs": [
    {
     "data": {
      "text/plain": [
       "array(['overall_qual', 'overall_cond', 'exter_qual', 'bsmt_qual',\n",
       "       'bsmt_exposure', 'heating_qc', 'bedroom_abvgr', 'kitchen_qual',\n",
       "       'totrms_abvgrd', 'fireplaces', 'fireplace_qu', 'garage_qual',\n",
       "       'bsmt_bath', 'bath', 'total_bsmt_sf^2',\n",
       "       'total_bsmt_sf gr_liv_area', 'total_bsmt_sf garage_area',\n",
       "       'total_bsmt_sf age_built', 'gr_liv_area^2',\n",
       "       'gr_liv_area garage_area', 'gr_liv_area age_built',\n",
       "       'garage_area^2', 'garage_area age_built', 'ms_subclass_30',\n",
       "       'ms_subclass_90', 'ms_subclass_120', 'ms_subclass_160',\n",
       "       'ms_subclass_180', 'ms_subclass_190', 'ms_zoning_C (all)',\n",
       "       'ms_zoning_RM', 'neighborhood_BrDale', 'neighborhood_ClearCr',\n",
       "       'neighborhood_CollgCr', 'neighborhood_Crawfor',\n",
       "       'neighborhood_Edwards', 'neighborhood_GrnHill',\n",
       "       'neighborhood_NoRidge', 'neighborhood_NridgHt',\n",
       "       'neighborhood_SawyerW', 'neighborhood_Somerst',\n",
       "       'neighborhood_StoneBr', 'neighborhood_Timber',\n",
       "       'neighborhood_Veenker', 'house_style_1Story', 'house_style_2.5Fin',\n",
       "       'exterior_1st_BrkFace', 'exterior_2nd_MetalSd',\n",
       "       'exterior_2nd_Wd Shng', 'foundation_PConc', 'foundation_Slab',\n",
       "       'foundation_Stone', 'garage_type_Attchd', 'garage_type_NA',\n",
       "       'garage_finish_3'], dtype=object)"
      ]
     },
     "execution_count": 22,
     "metadata": {},
     "output_type": "execute_result"
    }
   ],
   "source": [
    "# Initializing RFE model\n",
    "rfe = RFE(enet_model126, n_features_to_select=55)\n",
    "\n",
    "# Transforming data using RFE\n",
    "X_rfe = rfe.fit_transform(X_train_scaled, y_train) \n",
    "\n",
    "# Fitting the data to model\n",
    "enet_model126.fit(X_rfe, y_train)\n",
    "\n",
    "features = pd.Series(rfe.support_, index=X_train.columns)\n",
    "optimal_features = features[features==True].index.values\n",
    "optimal_features"
   ]
  },
  {
   "cell_type": "markdown",
   "metadata": {},
   "source": [
    "Let's plot the features and their coefficients."
   ]
  },
  {
   "cell_type": "code",
   "execution_count": 23,
   "metadata": {
    "scrolled": false
   },
   "outputs": [
    {
     "data": {
      "image/png": "[encoded data removed]",
      "text/plain": [
       "<Figure size 720x1080 with 1 Axes>"
      ]
     },
     "metadata": {
      "needs_background": "light"
     },
     "output_type": "display_data"
    }
   ],
   "source": [
    "coef = pd.Series(enet_model126.coef_, optimal_features)\n",
    "plt.figure(figsize=(10,15))\n",
    "coef.sort_values().plot.barh();"
   ]
  },
  {
   "cell_type": "markdown",
   "metadata": {},
   "source": [
    "#### Observations on optimal features:\n",
    "- `gr_liv_area`, `overall_qual` and `garage_area` come up as top features affecting the price of a house.\n",
    "\n",
    "\n",
    "- Certain `neighbourhoods` increase the predicted price while certain `subclass` types have negative impact on the predict price.\n",
    "\n",
    "\n",
    "- The list is definitely too long to be useful to someone who wants to quickly predict the price of a house. Just getting all the information needed for this list seems like a daunting task."
   ]
  },
  {
   "cell_type": "markdown",
   "metadata": {},
   "source": [
    "### Results using optimal features from RFE\n",
    "[Back to Contents](#Contents:)\n",
    "\n",
    "\n",
    "Let's look at how the optimal model performs before we continue to reduce the number of features to a more user-friendly number. "
   ]
  },
  {
   "cell_type": "code",
   "execution_count": 24,
   "metadata": {},
   "outputs": [],
   "source": [
    "# Create X_train, X_test and X_kaggle with optimal features recommended by RFE\n",
    "X_train_optimal = X_train[optimal_features]\n",
    "X_test_optimal = X_test[optimal_features]\n",
    "X_kaggle_optimal = X_kaggle[optimal_features]\n",
    "\n",
    "ss = StandardScaler()\n",
    "\n",
    "# fit and transform using X_train, apply the same scale to X_test\n",
    "X_train_optimal_scaled = ss.fit_transform(X_train_optimal)\n",
    "X_test_optimal_scaled = ss.transform(X_test_optimal)\n",
    "\n",
    "# also transform X_kaggle\n",
    "X_kaggle_optimal_scaled = ss.transform(X_kaggle_optimal)"
   ]
  },
  {
   "cell_type": "code",
   "execution_count": 25,
   "metadata": {},
   "outputs": [
    {
     "name": "stdout",
     "output_type": "stream",
     "text": [
      "LinearRegression() Performance for 55 features.\n",
      "----------------------------------------------------\n",
      "Estimate of Testing Adj. R2: 0.9014\n",
      "Training Adj. R2: 0.9159\n",
      "Test Adj. R2: 0.8862\n",
      "\n",
      "Estimate of Testing RMSE: 19233\n",
      "Training RMSE: 17900\n",
      "Test RMSE: 21804\n"
     ]
    }
   ],
   "source": [
    "# LR\n",
    "lr_model55 = get_metrics(X_train_optimal_scaled, X_test_optimal_scaled, y_train, y_test, 'lr')"
   ]
  },
  {
   "cell_type": "markdown",
   "metadata": {},
   "source": [
    "- Adj. R2 on test data is now 0.8862. The model is performing better than enet was with 126 features.\n",
    "\n",
    "\n",
    "- RMSE has reduced from trillions to just 21804, very close to enet's RMSE of 21790 with 126 features.\n",
    "\n",
    "\n",
    "- LR Model has improved significantly, improving over enet's model with 126 features. "
   ]
  },
  {
   "cell_type": "code",
   "execution_count": 26,
   "metadata": {
    "scrolled": true
   },
   "outputs": [],
   "source": [
    "# Ridge alphas\n",
    "alphas=np.logspace(0,2,num=200)"
   ]
  },
  {
   "cell_type": "code",
   "execution_count": 27,
   "metadata": {
    "scrolled": true
   },
   "outputs": [
    {
     "name": "stdout",
     "output_type": "stream",
     "text": [
      "Ridge(alpha=72.32633896483537) Performance for 55 features.\n",
      "----------------------------------------------------\n",
      "Estimate of Testing Adj. R2: 0.9039\n",
      "Training Adj. R2: 0.9152\n",
      "Test Adj. R2: 0.8850\n",
      "\n",
      "Estimate of Testing RMSE: 18991\n",
      "Training RMSE: 17977\n",
      "Test RMSE: 21917\n"
     ]
    }
   ],
   "source": [
    "# Ridge fit\n",
    "ridge_model55 = get_metrics(X_train_optimal_scaled, X_test_optimal_scaled, y_train, y_test, 'ridge', alphas)"
   ]
  },
  {
   "cell_type": "markdown",
   "metadata": {},
   "source": [
    "#### Ridge observations:\n",
    "- Adj R2 improved from 0.8706 previously but RMSE increased from 21804.\n",
    "\n",
    "\n",
    "- Both bias and variance has dropped."
   ]
  },
  {
   "cell_type": "code",
   "execution_count": 28,
   "metadata": {},
   "outputs": [],
   "source": [
    "# Lasso alphas\n",
    "alphas=np.arange(60, 80, 0.1)"
   ]
  },
  {
   "cell_type": "code",
   "execution_count": 29,
   "metadata": {
    "scrolled": true
   },
   "outputs": [
    {
     "name": "stdout",
     "output_type": "stream",
     "text": [
      "Lasso(alpha=62.10000000000003) Performance for 55 features.\n",
      "----------------------------------------------------\n",
      "Estimate of Testing Adj. R2: 0.9016\n",
      "Training Adj. R2: 0.9158\n",
      "Test Adj. R2: 0.8866\n",
      "\n",
      "Estimate of Testing RMSE: 19207\n",
      "Training RMSE: 17912\n",
      "Test RMSE: 21768\n"
     ]
    }
   ],
   "source": [
    "# Lasso fit\n",
    "lasso_model55 = get_metrics(X_train_optimal_scaled, X_test_optimal_scaled, y_train, y_test, 'lasso', alphas)"
   ]
  },
  {
   "cell_type": "markdown",
   "metadata": {},
   "source": [
    "#### Lasso observations:\n",
    "- Adj R2 increased from 0.8696 and RMSE dropped from 21888.\n",
    "\n",
    "\n",
    "- Overfitting has been reduced."
   ]
  },
  {
   "cell_type": "code",
   "execution_count": 30,
   "metadata": {},
   "outputs": [],
   "source": [
    "# ElasticNet alphas\n",
    "alphas = np.arange(0.01, 0.1, 0.001)"
   ]
  },
  {
   "cell_type": "code",
   "execution_count": 31,
   "metadata": {},
   "outputs": [
    {
     "name": "stdout",
     "output_type": "stream",
     "text": [
      "ElasticNet(alpha=0.05899999999999996, l1_ratio=0.1) Performance for 55 features.\n",
      "----------------------------------------------------\n",
      "Estimate of Testing Adj. R2: 0.9038\n",
      "Training Adj. R2: 0.9152\n",
      "Test Adj. R2: 0.8851\n",
      "\n",
      "Estimate of Testing RMSE: 18998\n",
      "Training RMSE: 17972\n",
      "Test RMSE: 21911\n"
     ]
    }
   ],
   "source": [
    "# ElasticNet fit\n",
    "enet_model55 = get_metrics(X_train_optimal_scaled, X_test_optimal_scaled, y_train, y_test, 'enet', alphas)"
   ]
  },
  {
   "cell_type": "markdown",
   "metadata": {},
   "source": [
    "#### ElasticNet observations:\n",
    "- Adj. R2 has improved from 0.8708 but RMSE has increased from 21790.\n",
    "\n",
    "\n",
    "- Bias has increased while variance dropped."
   ]
  },
  {
   "cell_type": "markdown",
   "metadata": {},
   "source": [
    "#### Summary for optimal model performance\n",
    "On unseen data, **Lasso model** with optimal features returned the best performance:\n",
    "- **Adj. R2 score: 0.8866**\n",
    "- **RMSE: 21768**"
   ]
  },
  {
   "cell_type": "markdown",
   "metadata": {},
   "source": [
    "Submit 2nd round results to Kaggle to see how it performs on unseen data."
   ]
  },
  {
   "cell_type": "code",
   "execution_count": 32,
   "metadata": {},
   "outputs": [],
   "source": [
    "# using lr model, get y-hat using X_test_submit data\n",
    "test_final['saleprice'] = lr_model55.predict(X_kaggle_optimal_scaled)\n",
    "test_final[['id','saleprice']].to_csv('./output/ame_lr_55.csv',index=False)"
   ]
  },
  {
   "cell_type": "markdown",
   "metadata": {},
   "source": [
    "**Kaggle score for LR model:**\n",
    "- Public: 31,572\n",
    "- Private: 24,321"
   ]
  },
  {
   "cell_type": "code",
   "execution_count": 33,
   "metadata": {},
   "outputs": [],
   "source": [
    "# using ridge model, get y-hat using X_test_submit data\n",
    "test_final['saleprice'] = ridge_model55.predict(X_kaggle_optimal_scaled)\n",
    "test_final[['id','saleprice']].to_csv('./output/ame_ridge_55.csv',index=False)"
   ]
  },
  {
   "cell_type": "markdown",
   "metadata": {},
   "source": [
    "**Kaggle score for Ridge model:**\n",
    "- Public: 31,492\n",
    "- Private: 25,203"
   ]
  },
  {
   "cell_type": "code",
   "execution_count": 34,
   "metadata": {},
   "outputs": [],
   "source": [
    "# using lasso model, get y-hat using test data\n",
    "test_final['saleprice'] = lasso_model55.predict(X_kaggle_optimal_scaled)\n",
    "test_final[['id','saleprice']].to_csv('./output/ame_lasso_55.csv',index=False)"
   ]
  },
  {
   "cell_type": "markdown",
   "metadata": {},
   "source": [
    "**Kaggle score for Lasso model:**\n",
    "- Public: 31,586\n",
    "- Private: 24,357"
   ]
  },
  {
   "cell_type": "code",
   "execution_count": 35,
   "metadata": {},
   "outputs": [],
   "source": [
    "# using enet model, get y-hat using test data\n",
    "test_final['saleprice'] = enet_model55.predict(X_kaggle_optimal_scaled)\n",
    "test_final[['id','saleprice']].to_csv('./output/ame_enet_55.csv',index=False)"
   ]
  },
  {
   "cell_type": "markdown",
   "metadata": {},
   "source": [
    "**Kaggle score for ElasticNet model:**\n",
    "- Public: 31,490\n",
    "- Private: 25,170"
   ]
  },
  {
   "cell_type": "markdown",
   "metadata": {},
   "source": [
    "**Observation:**\n",
    "- The LR model had the lowest private score on Kaggle test data."
   ]
  },
  {
   "cell_type": "markdown",
   "metadata": {},
   "source": [
    "### Production Model & Insights\n",
    "[Back to Contents](#Contents:)\n",
    "\n",
    "\n",
    "Let's now use RFE to select the best 25 features for our prediction model."
   ]
  },
  {
   "cell_type": "code",
   "execution_count": 36,
   "metadata": {
    "scrolled": true
   },
   "outputs": [
    {
     "data": {
      "text/plain": [
       "array(['overall_qual', 'overall_cond', 'exter_qual', 'bsmt_exposure',\n",
       "       'kitchen_qual', 'fireplaces', 'fireplace_qu', 'bsmt_bath', 'bath',\n",
       "       'total_bsmt_sf^2', 'total_bsmt_sf gr_liv_area',\n",
       "       'total_bsmt_sf garage_area', 'total_bsmt_sf age_built',\n",
       "       'gr_liv_area^2', 'gr_liv_area garage_area',\n",
       "       'gr_liv_area age_built', 'garage_area^2', 'garage_area age_built',\n",
       "       'ms_subclass_90', 'ms_subclass_160', 'neighborhood_Crawfor',\n",
       "       'neighborhood_GrnHill', 'neighborhood_NridgHt',\n",
       "       'neighborhood_Somerst', 'neighborhood_StoneBr'], dtype=object)"
      ]
     },
     "execution_count": 36,
     "metadata": {},
     "output_type": "execute_result"
    }
   ],
   "source": [
    "# Initializing RFE model with enet_model with 126 features\n",
    "rfe = RFE(enet_model126, n_features_to_select=25)\n",
    "\n",
    "# Transforming data using RFE\n",
    "X_rfe = rfe.fit_transform(X_train_scaled, y_train) \n",
    "\n",
    "# Fitting the data to model\n",
    "enet_model126.fit(X_rfe, y_train)\n",
    "\n",
    "features = pd.Series(rfe.support_, index=X_train.columns)\n",
    "top_features = features[features==True].index.values\n",
    "top_features"
   ]
  },
  {
   "cell_type": "code",
   "execution_count": 37,
   "metadata": {},
   "outputs": [],
   "source": [
    "# Create X_train, X_test and X_kaggle with only these top 25 features \n",
    "X_train_top = X_train[top_features]\n",
    "X_test_top = X_test[top_features]\n",
    "X_kaggle_top = X_kaggle[top_features]\n",
    "\n",
    "# fit and transform using X_train, apply the same scale to X_test\n",
    "X_train_top_scaled = ss.fit_transform(X_train_top)\n",
    "X_test_top_scaled = ss.transform(X_test_top)\n",
    "\n",
    "# also transform X_kaggle\n",
    "X_kaggle_top_scaled = ss.transform(X_kaggle_top)"
   ]
  },
  {
   "cell_type": "code",
   "execution_count": 38,
   "metadata": {},
   "outputs": [],
   "source": [
    "# ElasticNet alphas\n",
    "alphas = np.arange(0.01, 0.1, 0.001)"
   ]
  },
  {
   "cell_type": "code",
   "execution_count": 39,
   "metadata": {},
   "outputs": [
    {
     "name": "stdout",
     "output_type": "stream",
     "text": [
      "ElasticNet(alpha=0.05899999999999996, l1_ratio=0.2) Performance for 25 features.\n",
      "----------------------------------------------------\n",
      "Estimate of Testing Adj. R2: 0.8960\n",
      "Training Adj. R2: 0.9035\n",
      "Test Adj. R2: 0.8795\n",
      "\n",
      "Estimate of Testing RMSE: 19940\n",
      "Training RMSE: 19407\n",
      "Test RMSE: 22999\n"
     ]
    }
   ],
   "source": [
    "# ElasticNet fit\n",
    "enet_model25 = get_metrics(X_train_top_scaled, X_test_top_scaled, y_train, y_test, 'enet', alphas)"
   ]
  },
  {
   "cell_type": "markdown",
   "metadata": {},
   "source": [
    "**Adj R2 had dropped and RMSE had increased with final model**\n",
    "- Final model is probably underfitted."
   ]
  },
  {
   "cell_type": "code",
   "execution_count": 40,
   "metadata": {},
   "outputs": [],
   "source": [
    "# using lasso model, get y-hat using test data\n",
    "test_final['saleprice'] = enet_model25.predict(X_kaggle_top_scaled)\n",
    "test_final[['id','saleprice']].to_csv('./output/ame_top_25.csv',index=False)"
   ]
  },
  {
   "cell_type": "markdown",
   "metadata": {},
   "source": [
    "**Kaggle score for top 25 features:**\n",
    "- Public: 32,905\n",
    "- Private: 24,714\n",
    "\n",
    "Similar to the earlier results with test data, the top 25 model has higher RMSE. However, the trade-off on slight drop in model accuracy to make the model easier to use is definitely worth making."
   ]
  },
  {
   "cell_type": "markdown",
   "metadata": {},
   "source": [
    "Let's plot the coefficients for the final 25 features. "
   ]
  },
  {
   "cell_type": "code",
   "execution_count": 41,
   "metadata": {},
   "outputs": [
    {
     "data": {
      "image/png": "[encoded data removed]",
      "text/plain": [
       "<Figure size 720x720 with 1 Axes>"
      ]
     },
     "metadata": {
      "needs_background": "light"
     },
     "output_type": "display_data"
    }
   ],
   "source": [
    "# list down final features and plot their coefficients\n",
    "coef = pd.Series(enet_model25.coef_, top_features)\n",
    "plt.figure(figsize=(10,10))\n",
    "coef.sort_values().plot.barh();"
   ]
  },
  {
   "cell_type": "markdown",
   "metadata": {},
   "source": [
    "### Summary of the production model:\n",
    "[Back to Contents](#Contents:)\n",
    "\n",
    "\n",
    "Now we are able to make a prediction on the price of a property by answering these **10 most important questions**:\n",
    "\n",
    "    1. What is the above grade living area in sqft?\n",
    "    2. How is the overall quality of material and finish of the house?\n",
    "    3. What is the garage area in sqft?\n",
    "    4. What is the total basement area in sqft?\n",
    "    5. How is the overall condition of the house?\n",
    "    6. How is the quality of kitchen?\n",
    "    7. Is there a bath in the basement?\n",
    "    8. Level of basement exposure\n",
    "    9. Is there a fireplace?\n",
    "    10. How many baths are there?\n",
    "\n",
    "\n",
    "- Certain neighbourhoods like Green Hills, Stone Brook, Northridge Heights, Somerset and Crawford add a premium to the price.\n",
    "\n",
    "\n",
    "- Certain dwelling types like duplex and 2-storey Planned Unit Development (1946 & newer) reduces the price.\n",
    "\n",
    "\n",
    "- Age of the property has the highest negative impact on the price."
   ]
  },
  {
   "cell_type": "markdown",
   "metadata": {},
   "source": [
    "## Business Recommendations\n",
    "[Back to Contents](#Contents:)"
   ]
  },
  {
   "cell_type": "markdown",
   "metadata": {},
   "source": [
    "#### Some recommendations for the business:\n",
    "- `Gr Liv Area` (Above ground living area square feet) and `overall_qual` (overall material and finish of the house) adds the most value to a home.\n",
    "\n",
    "\n",
    "- Combined effect of `Total Bsmt SF` (Total square feet of basement area) and `age_built` (Age of the property, calculated from year built) hurt the value of a home the most.\n",
    "\n",
    "\n",
    "- To increase the value of their home, besides improving the `overall quality` and `condition` of the house, homehowners could add a `bathroom in the basement` and a `fireplace` to their home. \n",
    "\n",
    "\n",
    "- The neighbourhoods of `Green Hills`, `Stone Brook`, `Northridge Heights` might be good investments.\n",
    "\n",
    "\n",
    "#### Can this model be adapted to other cities?\n",
    "This model will not generalize well to other cities since it includes specific neighbourhoods by name. To make it more universal, neighbourhoods could be classified into different types, e.g. urban, suburban. This [link](https://www.hgtv.com/lifestyle/real-estate/12-kinds-of-neighborhoods) shows a possible breakdown for the types of neighbourhoods to be considered."
   ]
  }
 ],
 "metadata": {
  "kernelspec": {
   "display_name": "Python 3",
   "language": "python",
   "name": "python3"
  },
  "language_info": {
   "codemirror_mode": {
    "name": "ipython",
    "version": 3
   },
   "file_extension": ".py",
   "mimetype": "text/x-python",
   "name": "python",
   "nbconvert_exporter": "python",
   "pygments_lexer": "ipython3",
   "version": "3.8.2"
  },
  "toc": {
   "base_numbering": 1,
   "nav_menu": {
    "height": "651px",
    "width": "520px"
   },
   "number_sections": true,
   "sideBar": true,
   "skip_h1_title": false,
   "title_cell": "Table of Contents",
   "title_sidebar": "Contents",
   "toc_cell": false,
   "toc_position": {},
   "toc_section_display": true,
   "toc_window_display": false
  }
 },
 "nbformat": 4,
 "nbformat_minor": 4
}
