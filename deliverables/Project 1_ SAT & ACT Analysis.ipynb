{
 "cells": [
  {
   "cell_type": "markdown",
   "metadata": {},
   "source": [
    "# Project 1: SAT & ACT Analysis"
   ]
  },
  {
   "cell_type": "markdown",
   "metadata": {},
   "source": [
    "## Problem Statement"
   ]
  },
  {
   "cell_type": "markdown",
   "metadata": {},
   "source": [
    "The new SAT format was formally introduced in 2016. Participation has generally been good but some states have seen lower participation rates. Using the state participation data for 2017, compare with the participation in 2018 and make recommendations to the College Board to help increase participation in future SATs."
   ]
  },
  {
   "cell_type": "markdown",
   "metadata": {},
   "source": [
    "## Executive Summary\n",
    "\n",
    "Average participation rate in SAT was 46% in 2018, increasing 5.9% from 2017. 33 or 65% of all states increased their SAT participation in 2018. Illinois and Colorado had the highest increase in participation of 90% and 89% respectively due to a partnership with these states to get all high school students to take the SAT. However, the sudden increase of students taking SAT in these states had resulted in a drastic drop in SAT scores for Illinois (-96 points) and Colorado (-176 points). Florida, on the other hand saw their SAT scores improve by 82 points even after increasing participation from 83% in 2017 to 97% in 2018. The College Board's partnership with Khan's Academy have contributed to Florida's success in improving on the SAT scores while increasing state participation.\n",
    "\n",
    "Using Florida as a success example, evangelise the adoption of Khan Academy as a free enabler to guide high school students to do well in the SATs. As evidenced in Florida's case, letting students take the SAT during a regular school day will further encourage participation from students. \n",
    "\n",
    "### Contents:\n",
    "- [2017 Data Import & Cleaning](#2017-Data-Import-and-Cleaning)\n",
    "- [2018 Data Import and Cleaning](#2018-Data-Import-and-Cleaning)\n",
    "- [Exploratory Data Analysis](#Exploratory-Data-Analysis)\n",
    "- [Data Visualization](#Visualize-the-data)\n",
    "- [Descriptive and Inferential Statistics](#Descriptive-and-Inferential-Statistics)\n",
    "- [Outside Research](#Outside-Research)\n",
    "- [Conclusions and Recommendations](#Conclusions-and-Recommendations)"
   ]
  },
  {
   "cell_type": "markdown",
   "metadata": {},
   "source": [
    "**If you combine your problem statement, executive summary, data dictionary, and conclusions/recommendations, you have an amazing README.md file that quickly aligns your audience to the contents of your project.** Don't forget to cite your data sources!"
   ]
  },
  {
   "cell_type": "markdown",
   "metadata": {},
   "source": [
    "*All libraries used should be added here*"
   ]
  },
  {
   "cell_type": "code",
   "execution_count": 1,
   "metadata": {},
   "outputs": [],
   "source": [
    "#Imports:\n",
    "import pandas as pd\n",
    "import numpy as np\n",
    "import matplotlib.pyplot as plt\n",
    "import seaborn as sns\n",
    "%matplotlib inline"
   ]
  },
  {
   "cell_type": "markdown",
   "metadata": {},
   "source": [
    "## 2017 Data Import and Cleaning"
   ]
  },
  {
   "cell_type": "markdown",
   "metadata": {},
   "source": [
    "#### 1. Read In SAT & ACT  Data\n",
    "\n",
    "Read in the `sat_2017.csv` and `act_2017.csv` files and assign them to appropriately named pandas dataframes."
   ]
  },
  {
   "cell_type": "code",
   "execution_count": 3,
   "metadata": {},
   "outputs": [],
   "source": [
    "# read in the 2017 data for SAT and ACT\n",
    "sat_2017 = pd.read_csv('../data/sat_2017.csv')\n",
    "act_2017 = pd.read_csv('../data/act_2017.csv')"
   ]
  },
  {
   "cell_type": "markdown",
   "metadata": {},
   "source": [
    "#### 2. Display Data\n",
    "\n",
    "Print the first 10 rows of each dataframe to your jupyter notebook"
   ]
  },
  {
   "cell_type": "code",
   "execution_count": null,
   "metadata": {
    "scrolled": true
   },
   "outputs": [],
   "source": [
    "sat_2017.head(10)"
   ]
  },
  {
   "cell_type": "code",
   "execution_count": null,
   "metadata": {
    "scrolled": true
   },
   "outputs": [],
   "source": [
    "act_2017.head(10)"
   ]
  },
  {
   "cell_type": "code",
   "execution_count": null,
   "metadata": {},
   "outputs": [],
   "source": [
    "# check the data stat\n",
    "sat_2017.describe()"
   ]
  },
  {
   "cell_type": "code",
   "execution_count": null,
   "metadata": {},
   "outputs": [],
   "source": [
    "# check the data stats\n",
    "act_2017.describe()"
   ]
  },
  {
   "cell_type": "markdown",
   "metadata": {},
   "source": [
    "#### 3. Verbally Describe Data\n",
    "\n",
    "Take your time looking through the data and thoroughly describe the data in the markdown cell below. "
   ]
  },
  {
   "cell_type": "markdown",
   "metadata": {},
   "source": [
    "#### Description of SAT dataset:\n",
    "1. There are 51 rows and 5 columns of data, with no null values in any of the columns.\n",
    "\n",
    "\n",
    "2. First two columns are object types, last 3 columns are int types.\n",
    "\n",
    "\n",
    "3. Evidence-based Reading and Writing scores range from 482 to 644. Median is 559, mean is 569.\n",
    "\n",
    "\n",
    "4. Math scores range from 468 to 651. Median is 548, mean is 556.\n",
    "\n",
    "\n",
    "5. Total scores range from 950 to 1295. Median is 1107, mean is 1126.\n",
    "\n",
    "\n",
    "#### Description of ACT dataset:\n",
    "1. There are 52 rows and 7 columns of data, with no null values in any of the columns. There is 1 more row compared to SAT's dataset as it also contains a `National` row.\n",
    "\n",
    "\n",
    "2. First 2 columns are object types, next 4 columns are float types, and the last column is an object type as it did not show up in the describe() output.\n",
    "\n",
    "\n",
    "3. English scores range from 16.3 to 25.5. Median is 20.6 and mean is 20.9.\n",
    "\n",
    "\n",
    "4. Math scores range from 18.0 to 25.3. Median is 20.9 and mean is 21.2.\n",
    "\n",
    "\n",
    "5. Reading scores range from 18.1 to 26.0. Median is 21.7 and mean is 22.0.\n",
    "\n",
    "\n",
    "6. Science scores range from 2.3 to 24.9. Median is 21.2 and mean is 21.0"
   ]
  },
  {
   "cell_type": "markdown",
   "metadata": {},
   "source": [
    "#### 4a. Does the data look complete? "
   ]
  },
  {
   "cell_type": "code",
   "execution_count": null,
   "metadata": {},
   "outputs": [],
   "source": [
    "sat_2017.isnull().sum()"
   ]
  },
  {
   "cell_type": "code",
   "execution_count": null,
   "metadata": {},
   "outputs": [],
   "source": [
    "act_2017.isnull().sum()"
   ]
  },
  {
   "cell_type": "markdown",
   "metadata": {},
   "source": [
    "**Answer:** Yes, we have all the data that are needed, no null values were observed."
   ]
  },
  {
   "cell_type": "markdown",
   "metadata": {},
   "source": [
    "#### 4b. Are there any obvious issues with the observations?\n",
    "\n",
    "**What is the minimum *possible* value for each test/subtest? What is the maximum *possible* value?**\n",
    "\n",
    "Consider comparing any questionable values to the sources of your data:\n",
    "- [SAT](https://blog.collegevine.com/here-are-the-average-sat-scores-by-state/)\n",
    "- [ACT](https://blog.prepscholar.com/act-scores-by-state-averages-highs-and-lows)"
   ]
  },
  {
   "cell_type": "markdown",
   "metadata": {},
   "source": [
    "1. For SAT, each section has a minimum possible score of **200** and maximum score of **800**.\n",
    "So the minimum possible total score for SAT is **400** and maximum total score is **1600**.\n",
    "\n",
    "\n",
    "2. For ACT, each subject,and the overall composite score has a minimum possible score of **1** and maximum score of **36**."
   ]
  },
  {
   "cell_type": "markdown",
   "metadata": {},
   "source": [
    "#### 4c. Fix any errors you identified\n",
    "\n",
    "**The data is available** so there's no need to guess or calculate anything. If you didn't find any errors, continue to the next step."
   ]
  },
  {
   "cell_type": "markdown",
   "metadata": {},
   "source": [
    "#### Errors found in SAT data:\n",
    "1. For the SAT dataset, the minimum for `Math` is 52 but minimum possible score is 200. Upon closer inspection of the data, Maryland's `Math` average is 52. After checking with data source: https://blog.collegevine.com/here-are-the-average-sat-scores-by-state/, the actual `Math` average score for Maryland is **524**. This data point will need to be corrected."
   ]
  },
  {
   "cell_type": "code",
   "execution_count": null,
   "metadata": {},
   "outputs": [],
   "source": [
    "# clean Maryland's Math score\n",
    "sat_2017.loc[sat_2017['State']=='Maryland','Math'] = 524"
   ]
  },
  {
   "cell_type": "code",
   "execution_count": null,
   "metadata": {},
   "outputs": [],
   "source": [
    "# verify that score is updated\n",
    "sat_2017.loc[sat_2017['State']=='Maryland',]"
   ]
  },
  {
   "cell_type": "markdown",
   "metadata": {},
   "source": [
    "#### Errors found in ACT data:\n",
    "1. In the ACT dataset, `Composite` data type is not float as it should be. Upon closer inspection of the data, Wyoming's `Composite` score was showing **20.2x**. After checking against https://www.act.org/content/dam/act/unsecured/documents/cccr2017/ACT_2017-Average_Scores_by_State.pdf, the Wyoming's `Composite` score is **20.2**, so the typo error needs to be corrected before typecasting the column to float.\n",
    "\n",
    "\n",
    "2. Minimum value for `Science` is only **2.3** and looks suspicious. Maryland's `Science` score is recorded as 2.3 but the web data source showed **23.2**. This needs to be corrected."
   ]
  },
  {
   "cell_type": "code",
   "execution_count": null,
   "metadata": {},
   "outputs": [],
   "source": [
    "# clean Wyoming's Composite score\n",
    "act_2017.loc[act_2017['State']=='Wyoming','Composite'] = 20.2\n",
    "# clean Maryland's Science score\n",
    "act_2017.loc[act_2017['State']=='Maryland','Science'] = 23.2"
   ]
  },
  {
   "cell_type": "code",
   "execution_count": null,
   "metadata": {},
   "outputs": [],
   "source": [
    "# verify that data is updated\n",
    "act_2017.loc[act_2017['State'].isin(['Wyoming', 'Maryland']), ['State','Science', 'Composite']]"
   ]
  },
  {
   "cell_type": "markdown",
   "metadata": {},
   "source": [
    "#### 5. What are your data types? \n",
    "Display the data types of each feature. "
   ]
  },
  {
   "cell_type": "code",
   "execution_count": null,
   "metadata": {},
   "outputs": [],
   "source": [
    "sat_2017.info()"
   ]
  },
  {
   "cell_type": "code",
   "execution_count": null,
   "metadata": {},
   "outputs": [],
   "source": [
    "act_2017.info()"
   ]
  },
  {
   "cell_type": "markdown",
   "metadata": {},
   "source": [
    "What did you learn?\n",
    "- Do any of them seem odd?  \n",
    "- Which ones are not as they should be?  "
   ]
  },
  {
   "cell_type": "markdown",
   "metadata": {},
   "source": [
    "#### Answer:\n",
    "1. `Participation` for both SAT and ACT are type `object`. Both needs to be converted to type `float`.\n",
    "2. Composite in ACT is also type `object` due to a data entry error which has been corrected. This should now be converted to type `float`."
   ]
  },
  {
   "cell_type": "markdown",
   "metadata": {},
   "source": [
    "#### 6. Fix Incorrect Data Types\n",
    "Based on what you discovered above, use appropriate methods to re-type incorrectly typed data.\n",
    "- Define a function that will allow you to convert participation rates to an appropriate numeric type. Use `map` or `apply` to change these columns in each dataframe."
   ]
  },
  {
   "cell_type": "code",
   "execution_count": null,
   "metadata": {},
   "outputs": [],
   "source": [
    "# convert string with % to float function\n",
    "def to_float(string):\n",
    "    return float(string.replace('%',''))"
   ]
  },
  {
   "cell_type": "markdown",
   "metadata": {},
   "source": [
    "- Fix any individual values preventing other columns from being the appropriate type."
   ]
  },
  {
   "cell_type": "markdown",
   "metadata": {},
   "source": [
    "**Answer:** There was a value in ACT Composite column which had an 'x' in the data, that has been cleaned."
   ]
  },
  {
   "cell_type": "markdown",
   "metadata": {},
   "source": [
    "- Finish your data modifications by making sure the columns are now typed appropriately."
   ]
  },
  {
   "cell_type": "code",
   "execution_count": null,
   "metadata": {},
   "outputs": [],
   "source": [
    "# convert Participation to float for both SAT and ACT datasets\n",
    "sat_2017['Participation'] = sat_2017['Participation'].map(to_float)\n",
    "act_2017['Participation'] = act_2017['Participation'].map(to_float)\n",
    "\n",
    "# convert Composite in ACT to float\n",
    "act_2017['Composite'] = act_2017['Composite'].astype(float)"
   ]
  },
  {
   "cell_type": "markdown",
   "metadata": {},
   "source": [
    "- Display the data types again to confirm they are correct."
   ]
  },
  {
   "cell_type": "code",
   "execution_count": null,
   "metadata": {},
   "outputs": [],
   "source": [
    "sat_2017.dtypes"
   ]
  },
  {
   "cell_type": "code",
   "execution_count": null,
   "metadata": {},
   "outputs": [],
   "source": [
    "act_2017.dtypes"
   ]
  },
  {
   "cell_type": "markdown",
   "metadata": {},
   "source": [
    "**All the columns for both SAT 2017 and ACT 2017 are now typed properly.**"
   ]
  },
  {
   "cell_type": "markdown",
   "metadata": {},
   "source": [
    "#### 7. Rename Columns\n",
    "Change the names of the columns to more expressive names so that you can tell the difference the SAT columns and the ACT columns. Your solution should map all column names being changed at once (no repeated singular name-changes). **We will be combining these data with some of the data from 2018, and so you should name columns in an appropriate way**.\n",
    "\n",
    "**Guidelines**:\n",
    "- Column names should be all lowercase (you will thank yourself when you start pushing data to SQL later in the course)\n",
    "- Column names should not contain spaces (underscores will suffice--this allows for using the `df.column_name` method to access columns in addition to `df['column_name']`.\n",
    "- Column names should be unique and informative (the only feature that we actually share between dataframes is the state)."
   ]
  },
  {
   "cell_type": "markdown",
   "metadata": {},
   "source": [
    "#### Rename for SAT data"
   ]
  },
  {
   "cell_type": "code",
   "execution_count": null,
   "metadata": {},
   "outputs": [],
   "source": [
    "# change all column names to lower case\n",
    "sat_2017.columns = sat_2017.columns.str.lower() \n",
    "act_2017.columns = act_2017.columns.str.lower()"
   ]
  },
  {
   "cell_type": "code",
   "execution_count": null,
   "metadata": {},
   "outputs": [],
   "source": [
    "# shorten column name 'evidence-based reading and writing' to 'ebrw'\n",
    "sat_2017.rename(columns={'evidence-based reading and writing':'ebrw',\n",
    "                        'participation':'part'},inplace=True)\n",
    "\n",
    "# add '_sat' suffix to column names exept for state\n",
    "sat_2017.rename(columns={col: col+'_sat' for col in sat_2017.columns[1:]}, inplace=True)"
   ]
  },
  {
   "cell_type": "code",
   "execution_count": null,
   "metadata": {},
   "outputs": [],
   "source": [
    "sat_2017.head()"
   ]
  },
  {
   "cell_type": "markdown",
   "metadata": {},
   "source": [
    "#### Rename for ACT data"
   ]
  },
  {
   "cell_type": "code",
   "execution_count": null,
   "metadata": {},
   "outputs": [],
   "source": [
    "# shorten column name 'participation' to 'part'\n",
    "act_2017.rename(columns={'participation':'part'},inplace=True)\n",
    "\n",
    "# add '_act' suffix to ACT column names exept for state\n",
    "act_2017.rename(columns={col: col+'_act' for col in act_2017.columns[1:]}, inplace=True)\n",
    "act_2017.columns"
   ]
  },
  {
   "cell_type": "code",
   "execution_count": null,
   "metadata": {},
   "outputs": [],
   "source": [
    "act_2017.head()"
   ]
  },
  {
   "cell_type": "markdown",
   "metadata": {},
   "source": [
    "#### 8. Create a data dictionary\n",
    "\n",
    "Now that we've fixed our data, and given it appropriate names, let's create a [data dictionary](http://library.ucmerced.edu/node/10249). \n",
    "\n",
    "A data dictionary provides a quick overview of features/variables/columns, alongside data types and descriptions. The more descriptive you can be, the more useful this document is.\n",
    "\n",
    "Example of a Fictional Data Dictionary Entry: \n",
    "\n",
    "|Feature|Type|Dataset|Description|\n",
    "|---|---|---|---|\n",
    "|**county_pop**|*integer*|2010 census|The population of the county (units in thousands, where 2.5 represents 2500 people).| \n",
    "|**per_poverty**|*float*|2010 census|The percent of the county over the age of 18 living below the 200% of official US poverty rate (units percent to two decimal places 98.10 means 98.1%)|\n",
    "\n",
    "[Here's a quick link to a short guide for formatting markdown in Jupyter notebooks](https://jupyter-notebook.readthedocs.io/en/stable/examples/Notebook/Working%20With%20Markdown%20Cells.html).\n",
    "\n",
    "Provided is the skeleton for formatting a markdown table, with columns headers that will help you create a data dictionary to quickly summarize your data, as well as some examples. **This would be a great thing to copy and paste into your custom README for this project.**"
   ]
  },
  {
   "cell_type": "markdown",
   "metadata": {},
   "source": [
    "### Data Dictionary\n",
    "|Dataset|Column|Type|Description|Values|\n",
    "|---|---|---|---|---|\n",
    "|**SAT**|**state**|object|U.S. state|A-Z, title case|\n",
    "||**part**|float|Participation rate in SAT, proportion of high school students in that year who sat for SAT|0-100|\n",
    "||**ebrw**|float|Average score for _Evidence-based Reading and Writing_ in that state|200-800|\n",
    "||**math**|float|Average score for Math in that state|200-800|\n",
    "||**total**|float|Average total score in that state, combined from EBRW and Math scores|400-1600|\n",
    "|**ACT**|**state**|object|U.S. state|A-Z, title case|\n",
    "||**part**|float|Participation rate in ACT, proportion of high school students in that year who sat for ACT|0-100|\n",
    "||**english**|float|Average score for English in that state|1-36|\n",
    "||**math**|float|Average score for Math in that state|1-36|\n",
    "||**reading**|float|Average score for Reading in that state|1-36|\n",
    "||**science**|float|Average score for Science in that state|1-36|\n",
    "||**composite**|float|Average Composite score in that state, calculated by averaging English, Math, Reading and Science|1-36|"
   ]
  },
  {
   "cell_type": "markdown",
   "metadata": {},
   "source": [
    "#### 9. Drop unnecessary rows\n",
    "\n",
    "One of our dataframes contains an extra row. Identify and remove this from the dataframe."
   ]
  },
  {
   "cell_type": "code",
   "execution_count": null,
   "metadata": {},
   "outputs": [],
   "source": [
    "# identify the extra state in ACT 2017 as it had 52 rows while SAT had 51 rows.\n",
    "sat_states = sat_2017['state']\n",
    "act_2017[~act_2017['state'].isin(sat_states)]"
   ]
  },
  {
   "cell_type": "code",
   "execution_count": null,
   "metadata": {},
   "outputs": [],
   "source": [
    "# drop the row where index=0\n",
    "act_2017.drop(0, inplace=True)"
   ]
  },
  {
   "cell_type": "code",
   "execution_count": null,
   "metadata": {},
   "outputs": [],
   "source": [
    "# confirm row has been dropped\n",
    "act_2017[act_2017['state']=='National']"
   ]
  },
  {
   "cell_type": "markdown",
   "metadata": {},
   "source": [
    "- **Row with 'National' in state column of ACT data has been dropped.**"
   ]
  },
  {
   "cell_type": "markdown",
   "metadata": {},
   "source": [
    "#### 10. Merge Dataframes\n",
    "\n",
    "Join the 2017 ACT and SAT dataframes using the state in each dataframe as the key. Assign this to a new variable."
   ]
  },
  {
   "cell_type": "code",
   "execution_count": null,
   "metadata": {},
   "outputs": [],
   "source": [
    "# merge the SAT and ACT dataframes\n",
    "combined_2017 = pd.merge(sat_2017, act_2017, on='state', how='outer')"
   ]
  },
  {
   "cell_type": "code",
   "execution_count": null,
   "metadata": {
    "scrolled": true
   },
   "outputs": [],
   "source": [
    "combined_2017.head()"
   ]
  },
  {
   "cell_type": "markdown",
   "metadata": {},
   "source": [
    "#### 11. Save your cleaned, merged dataframe\n",
    "\n",
    "Use a relative path to save out your data as `combined_2017.csv`."
   ]
  },
  {
   "cell_type": "code",
   "execution_count": null,
   "metadata": {},
   "outputs": [],
   "source": [
    "# save the dataframe as a csv file\n",
    "combined_2017.to_csv('../data/combined_2017.csv')"
   ]
  },
  {
   "cell_type": "markdown",
   "metadata": {},
   "source": [
    "## 2018 Data Import and Cleaning"
   ]
  },
  {
   "cell_type": "markdown",
   "metadata": {},
   "source": [
    "Links to the 2018 ACT and SAT data are provided in the README. These data live in PDFs, and so you'll get to enjoy practicing some *manual* data collection. Save these data as a CSV in your `data` directory, and import, explore, and clean these data in the same way you did above. **Make sure you comment on your steps so it is clear *why* you are doing each process**."
   ]
  },
  {
   "cell_type": "code",
   "execution_count": null,
   "metadata": {},
   "outputs": [],
   "source": [
    "# read in SAT and ACT data for 2018\n",
    "sat_2018 = pd.read_csv('../data/sat_2018.csv')\n",
    "act_2018 = pd.read_csv('../data/act_2018_updated.csv')"
   ]
  },
  {
   "cell_type": "code",
   "execution_count": null,
   "metadata": {
    "scrolled": true
   },
   "outputs": [],
   "source": [
    "# look through the data\n",
    "sat_2018"
   ]
  },
  {
   "cell_type": "code",
   "execution_count": null,
   "metadata": {
    "scrolled": true
   },
   "outputs": [],
   "source": [
    "act_2018"
   ]
  },
  {
   "cell_type": "code",
   "execution_count": null,
   "metadata": {},
   "outputs": [],
   "source": [
    "# check summary stats for 'suspicious' values\n",
    "sat_2018.describe()"
   ]
  },
  {
   "cell_type": "code",
   "execution_count": null,
   "metadata": {},
   "outputs": [],
   "source": [
    "# check data types\n",
    "sat_2018.dtypes"
   ]
  },
  {
   "cell_type": "code",
   "execution_count": null,
   "metadata": {},
   "outputs": [],
   "source": [
    "# change column names to lowercase and rename \"Evidence-Based Reading and Writing\" to \"ebrw\"\n",
    "sat_2018.columns = sat_2018.columns.str.lower()\n",
    "sat_2018.rename(columns={'evidence-based reading and writing':'ebrw',\n",
    "                        'participation':'part'}, inplace=True)\n",
    "\n",
    "# remove % sign from participation and convert to float\n",
    "sat_2018['part'] = sat_2018['part'].map(to_float)\n",
    "\n",
    "# add '_sat' suffix to column names\n",
    "sat_2018.rename(columns={col: col+'_sat' for col in sat_2018.columns[1:]}, inplace=True)"
   ]
  },
  {
   "cell_type": "code",
   "execution_count": null,
   "metadata": {},
   "outputs": [],
   "source": [
    "sat_2018.head()"
   ]
  },
  {
   "cell_type": "code",
   "execution_count": null,
   "metadata": {},
   "outputs": [],
   "source": [
    "act_2017.columns"
   ]
  },
  {
   "cell_type": "code",
   "execution_count": null,
   "metadata": {},
   "outputs": [],
   "source": [
    "act_2018.columns"
   ]
  },
  {
   "cell_type": "code",
   "execution_count": null,
   "metadata": {},
   "outputs": [],
   "source": [
    "# change ACT 2018 column headings to match with 2017\n",
    "# replace the words average and score, followed by a strip function to remove spaces\n",
    "act_2018.columns = act_2018.columns.str.lower().str.replace('average','').str.replace('score','').str.strip()\n",
    "\n",
    "# change 'percentage of students tested' to participation\n",
    "act_2018.rename(columns={'percentage of students tested':'part'}, inplace=True)\n",
    "\n",
    "act_2018.rename(columns={col: col+'_act' for col in act_2018.columns[1:]}, inplace=True)\n",
    "act_2018.columns"
   ]
  },
  {
   "cell_type": "code",
   "execution_count": null,
   "metadata": {},
   "outputs": [],
   "source": [
    "act_2018.dtypes"
   ]
  },
  {
   "cell_type": "code",
   "execution_count": null,
   "metadata": {},
   "outputs": [],
   "source": [
    "# change participation type to float\n",
    "act_2018['part_act'] = act_2018['part_act'].astype(float)"
   ]
  },
  {
   "cell_type": "markdown",
   "metadata": {},
   "source": [
    "#### Combine your 2017 and 2018 data into a single dataframe\n",
    "Joining on state names should work, assuming you formatted all your state names identically. Make sure none of your columns (other than state) have identical names. Do yourself a favor and decide if you're encoding participation rates as floats or integers and standardize this across your datasets.\n",
    "\n",
    "Save the contents of this merged dataframe as `final.csv`.\n",
    "\n",
    "**Use this combined dataframe for the remainder of the project**."
   ]
  },
  {
   "cell_type": "code",
   "execution_count": null,
   "metadata": {},
   "outputs": [],
   "source": [
    "combined_2018 = pd.merge(sat_2018, act_2018, on='state', how='outer')\n",
    "combined_2018.head()"
   ]
  },
  {
   "cell_type": "code",
   "execution_count": null,
   "metadata": {},
   "outputs": [],
   "source": [
    "# add '_2017' suffix to column names\n",
    "combined_2017.rename(columns={col: col+'_2017' for col in combined_2017.columns[1:]}, inplace=True)\n",
    "\n",
    "# add '_2018' suffix to column names\n",
    "combined_2018.rename(columns={col: col+'_2018' for col in combined_2018.columns[1:]}, inplace=True)"
   ]
  },
  {
   "cell_type": "code",
   "execution_count": null,
   "metadata": {},
   "outputs": [],
   "source": [
    "combined_2017.head()"
   ]
  },
  {
   "cell_type": "code",
   "execution_count": null,
   "metadata": {},
   "outputs": [],
   "source": [
    "combined_2018.head()"
   ]
  },
  {
   "cell_type": "code",
   "execution_count": null,
   "metadata": {},
   "outputs": [],
   "source": [
    "final_combined = pd.merge(combined_2017, combined_2018, how='outer')\n",
    "final_combined.head()"
   ]
  },
  {
   "cell_type": "code",
   "execution_count": null,
   "metadata": {},
   "outputs": [],
   "source": [
    "final_combined.to_csv('../data/final.csv')"
   ]
  },
  {
   "cell_type": "markdown",
   "metadata": {},
   "source": [
    "## Exploratory Data Analysis\n",
    "\n",
    "\n",
    "### Summary Statistics\n",
    "Transpose the output of pandas `describe` method to create a quick overview of each numeric feature."
   ]
  },
  {
   "cell_type": "code",
   "execution_count": null,
   "metadata": {},
   "outputs": [],
   "source": [
    "final_combined.describe().T"
   ]
  },
  {
   "cell_type": "markdown",
   "metadata": {},
   "source": [
    "#### Manually calculate standard deviation\n",
    "\n",
    "$$\\sigma = \\sqrt{\\frac{1}{n}\\sum_{i=1}^n(x_i - \\mu)^2}$$\n",
    "\n",
    "- Write a function to calculate standard deviation using the formula above"
   ]
  },
  {
   "cell_type": "code",
   "execution_count": null,
   "metadata": {},
   "outputs": [],
   "source": [
    "def stdev(series):\n",
    "    var = 0\n",
    "    for num in series:\n",
    "        var += np.power(num - np.mean(series),2)\n",
    "    return np.sqrt(var/(len(series)))\n",
    "\n",
    "stdev(final_combined['ebrw_sat_2017'])"
   ]
  },
  {
   "cell_type": "code",
   "execution_count": null,
   "metadata": {},
   "outputs": [],
   "source": [
    "final_combined['ebrw_sat_2017'].describe()"
   ]
  },
  {
   "cell_type": "markdown",
   "metadata": {},
   "source": [
    "- Use a **dictionary comprehension** to apply your standard deviation function to each numeric column in the dataframe.  **No loops**  \n",
    "- Assign the output to variable `sd` as a dictionary where: \n",
    "    - Each column name is now a key \n",
    "    - That standard deviation of the column is the value \n",
    "     \n",
    "*Example Output :* `{'ACT_Math': 120, 'ACT_Reading': 120, ...}`"
   ]
  },
  {
   "cell_type": "code",
   "execution_count": null,
   "metadata": {},
   "outputs": [],
   "source": [
    "sd = {col: stdev(final_combined[col]) for col in final_combined.columns[1:]}"
   ]
  },
  {
   "cell_type": "code",
   "execution_count": null,
   "metadata": {},
   "outputs": [],
   "source": [
    "sd"
   ]
  },
  {
   "cell_type": "code",
   "execution_count": null,
   "metadata": {},
   "outputs": [],
   "source": [
    "final_combined.describe()"
   ]
  },
  {
   "cell_type": "code",
   "execution_count": null,
   "metadata": {},
   "outputs": [],
   "source": [
    "np.std(final_combined)"
   ]
  },
  {
   "cell_type": "markdown",
   "metadata": {},
   "source": [
    "Do your manually calculated standard deviations match up with the output from pandas `describe`? What about numpy's `std` method?"
   ]
  },
  {
   "cell_type": "markdown",
   "metadata": {},
   "source": [
    "Answer: No, they do not match up to pandas describe output, my calculations has slightly lower std results. Numpy's std method matches my calculations."
   ]
  },
  {
   "cell_type": "markdown",
   "metadata": {},
   "source": [
    "#### Investigate trends in the data\n",
    "Using sorting and/or masking (along with the `.head` method to not print our entire dataframe), consider the following questions:\n",
    "\n",
    "- Which states have the highest and lowest participation rates for the:\n",
    "    - 2017 SAT?\n",
    "    - 2018 SAT?\n",
    "    - 2017 ACT?\n",
    "    - 2018 ACT?\n",
    "- Which states have the highest and lowest mean total/composite scores for the:\n",
    "    - 2017 SAT?\n",
    "    - 2018 SAT?\n",
    "    - 2017 ACT?\n",
    "    - 2018 ACT?\n",
    "- Do any states with 100% participation on a given test have a rate change year-to-year?\n",
    "- Do any states show have >50% participation on *both* tests either year?\n",
    "\n",
    "Based on what you've just observed, have you identified any states that you're especially interested in? **Make a note of these and state *why* you think they're interesting**.\n",
    "\n",
    "**You should comment on your findings at each step in a markdown cell below your code block**. Make sure you include at least one example of sorting your dataframe by a column, and one example of using boolean filtering (i.e., masking) to select a subset of the dataframe."
   ]
  },
  {
   "cell_type": "markdown",
   "metadata": {},
   "source": [
    "### Create new columns for analysis"
   ]
  },
  {
   "cell_type": "code",
   "execution_count": null,
   "metadata": {},
   "outputs": [],
   "source": [
    "final_combined.columns"
   ]
  },
  {
   "cell_type": "code",
   "execution_count": null,
   "metadata": {},
   "outputs": [],
   "source": [
    "# Calculate change in participation and subject scores from 2017 to 2018 for SAT and ACT\n",
    "num_fields = ['part_sat', 'part_act', 'ebrw_sat', 'math_sat', 'total_sat', 'english_act', 'math_act',\n",
    "                 'reading_act','science_act','composite_act']\n",
    "\n",
    "for var in num_fields:\n",
    "    final_combined[var+'_chg'] = final_combined[var+'_2018'] - final_combined[var+'_2017']"
   ]
  },
  {
   "cell_type": "code",
   "execution_count": null,
   "metadata": {},
   "outputs": [],
   "source": [
    "chg_fields = ['state','part_sat_chg', 'part_act_chg', 'ebrw_sat_chg', 'math_sat_chg', 'total_sat_chg',\n",
    "                'english_act_chg', 'math_act_chg', 'reading_act_chg','science_act_chg','composite_act_chg']\n",
    "final_combined[chg_fields].sort_values('part_sat_chg', ascending=False).head()"
   ]
  },
  {
   "cell_type": "markdown",
   "metadata": {},
   "source": [
    "### SAT Participation Rates"
   ]
  },
  {
   "cell_type": "code",
   "execution_count": null,
   "metadata": {},
   "outputs": [],
   "source": [
    "# SAT participation rates\n",
    "sat_part = final_combined[['state','part_sat_2017', 'part_sat_2018', 'part_sat_chg']].sort_values(\n",
    "    'part_sat_chg', ascending=False)"
   ]
  },
  {
   "cell_type": "code",
   "execution_count": null,
   "metadata": {},
   "outputs": [],
   "source": [
    "# States with highest SAT participation in 2017\n",
    "sat_part.sort_values('part_sat_2017', ascending=False).head(10)"
   ]
  },
  {
   "cell_type": "markdown",
   "metadata": {},
   "source": [
    "**4 states (_Michigan, Connecticut, Delaware and District of Columbia_) had 100% participation rates in 2017.**"
   ]
  },
  {
   "cell_type": "code",
   "execution_count": null,
   "metadata": {},
   "outputs": [],
   "source": [
    "# States with highest SAT participation in 2018\n",
    "sat_part.sort_values('part_sat_2018', ascending=False).head(10)"
   ]
  },
  {
   "cell_type": "markdown",
   "metadata": {},
   "source": [
    "There are 5 states (_Michigan, Connecticut, Delaware, Colorado and Idaho_) with 100% participation rate in 2018. \n",
    "**Colorado's participation had jumped 89% from 11% in 2017.**"
   ]
  },
  {
   "cell_type": "code",
   "execution_count": null,
   "metadata": {},
   "outputs": [],
   "source": [
    "# How many states have <10% SAT participation in 2017\n",
    "len(sat_part[sat_part['part_sat_2017']<10])"
   ]
  },
  {
   "cell_type": "markdown",
   "metadata": {},
   "source": [
    "There are 18 states with very low participation rate of <10% in 2017."
   ]
  },
  {
   "cell_type": "code",
   "execution_count": null,
   "metadata": {},
   "outputs": [],
   "source": [
    "# How many states with <10% SAT participation in 2018\n",
    "len(sat_part[sat_part['part_sat_2018']<10])"
   ]
  },
  {
   "cell_type": "markdown",
   "metadata": {},
   "source": [
    "There are 17 states with <10% participation rate in 2018, 1 less than 2017."
   ]
  },
  {
   "cell_type": "code",
   "execution_count": null,
   "metadata": {},
   "outputs": [],
   "source": [
    "# States with the lowest participation rates in 2018\n",
    "sat_part[sat_part['part_sat_2018']<10].sort_values('part_sat_2018').head(3)"
   ]
  },
  {
   "cell_type": "code",
   "execution_count": null,
   "metadata": {},
   "outputs": [],
   "source": [
    "# Which states had <10% participation in 2017 but improved in 2018\n",
    "sat_part[(sat_part['part_sat_2017']<10) & (sat_part['part_sat_chg']>0)]"
   ]
  },
  {
   "cell_type": "markdown",
   "metadata": {},
   "source": [
    "10 states with very low participation rates in 2017 increased in 2018. In fact, **Illinois increased participation from 9% in 2017 to 99% in 2018.**"
   ]
  },
  {
   "cell_type": "code",
   "execution_count": null,
   "metadata": {},
   "outputs": [],
   "source": [
    "# Which states had the highest increase in participation\n",
    "sat_part.head(5)"
   ]
  },
  {
   "cell_type": "markdown",
   "metadata": {},
   "source": [
    "**Illinois and Colorado had >85% increase in participation.**"
   ]
  },
  {
   "cell_type": "code",
   "execution_count": null,
   "metadata": {},
   "outputs": [],
   "source": [
    "# Which states had the highest drop in participation\n",
    "sat_part.tail(5)"
   ]
  },
  {
   "cell_type": "markdown",
   "metadata": {},
   "source": [
    "**Florida has the highest drop in participation, from 83% in 2017 to 56% in 2018, a drop of 27%.**"
   ]
  },
  {
   "cell_type": "markdown",
   "metadata": {},
   "source": [
    "### ACT Participation Rates"
   ]
  },
  {
   "cell_type": "code",
   "execution_count": null,
   "metadata": {},
   "outputs": [],
   "source": [
    "# ACT participation rates\n",
    "act_part = final_combined[['state','part_act_2017', 'part_act_2018', 'part_act_chg']].sort_values(\n",
    "    'part_act_chg', ascending=False)\n",
    "act_part.head()"
   ]
  },
  {
   "cell_type": "code",
   "execution_count": null,
   "metadata": {},
   "outputs": [],
   "source": [
    "# How many states have 100% participation in ACT 2017\n",
    "len(act_part[act_part['part_act_2017']==100])"
   ]
  },
  {
   "cell_type": "markdown",
   "metadata": {},
   "source": [
    "17 states have 100% participation in ACT in 2017."
   ]
  },
  {
   "cell_type": "code",
   "execution_count": null,
   "metadata": {},
   "outputs": [],
   "source": [
    "# How many states have 100% participation in ACT 2018\n",
    "len(act_part[act_part['part_act_2018']==100])"
   ]
  },
  {
   "cell_type": "markdown",
   "metadata": {},
   "source": [
    "There are also 17 states with 100% participation in ACT in 2017."
   ]
  },
  {
   "cell_type": "code",
   "execution_count": null,
   "metadata": {},
   "outputs": [],
   "source": [
    "# Which states have 100% participation in 2017 but not in 2018\n",
    "act_part[(act_part['part_act_2017']==100) & (act_part['part_act_2018']!=100)]"
   ]
  },
  {
   "cell_type": "markdown",
   "metadata": {},
   "source": [
    "`Minnesota` and `Colorado` had 100% participation in 2017 but dropped in 2018. Drop for `Minnesota` is only 1% but **Colorado had a 70% drop!**"
   ]
  },
  {
   "cell_type": "code",
   "execution_count": null,
   "metadata": {},
   "outputs": [],
   "source": [
    "# Which states have 100% participation in 2018 but not in 2017\n",
    "act_part[(act_part['part_act_2018']==100) & (act_part['part_act_2017']!=100)]"
   ]
  },
  {
   "cell_type": "markdown",
   "metadata": {},
   "source": [
    "`Ohio` and `Nebraska` have increased participation to 100% in 2018. "
   ]
  },
  {
   "cell_type": "code",
   "execution_count": null,
   "metadata": {},
   "outputs": [],
   "source": [
    "# Which states have the lowest participation rates for ACT 2017\n",
    "act_part.sort_values('part_act_2017').head()"
   ]
  },
  {
   "cell_type": "markdown",
   "metadata": {},
   "source": [
    "`Maine` has the lowest participation rate and is the only state with <10% participation in 2017."
   ]
  },
  {
   "cell_type": "code",
   "execution_count": null,
   "metadata": {},
   "outputs": [],
   "source": [
    "# Which states have the lowest participation rates for ACT 2018\n",
    "act_part.sort_values('part_act_2018').head()"
   ]
  },
  {
   "cell_type": "markdown",
   "metadata": {},
   "source": [
    "`Maine` has the lowest participation rate and is the only state with <10% participation in 2018."
   ]
  },
  {
   "cell_type": "markdown",
   "metadata": {},
   "source": [
    "### SAT Scores"
   ]
  },
  {
   "cell_type": "code",
   "execution_count": null,
   "metadata": {},
   "outputs": [],
   "source": [
    "# SAT Total Scores\n",
    "sat_total = final_combined[['state','total_sat_2017', 'total_sat_2018', 'total_sat_chg']].sort_values(\n",
    "    'total_sat_chg', ascending=False)\n",
    "sat_total.head()"
   ]
  },
  {
   "cell_type": "markdown",
   "metadata": {},
   "source": [
    "`Florida` has improved the most in SAT score."
   ]
  },
  {
   "cell_type": "code",
   "execution_count": null,
   "metadata": {},
   "outputs": [],
   "source": [
    "# Which states have the highest SAT scores in 2017\n",
    "sat_total.sort_values('total_sat_2017', ascending=False).head()"
   ]
  },
  {
   "cell_type": "markdown",
   "metadata": {},
   "source": [
    "`Minnesota` and `Wisconsin` have the highest SAT scores in 2017."
   ]
  },
  {
   "cell_type": "code",
   "execution_count": null,
   "metadata": {},
   "outputs": [],
   "source": [
    "# Which states have the highest SAT scores in 2018\n",
    "sat_total.sort_values('total_sat_2018', ascending=False).head()"
   ]
  },
  {
   "cell_type": "markdown",
   "metadata": {},
   "source": [
    "`Minnesota` and `Wisconsin` have the highest SAT scores in both 2017 and 2018."
   ]
  },
  {
   "cell_type": "code",
   "execution_count": null,
   "metadata": {},
   "outputs": [],
   "source": [
    "# Which states have the lowest SAT scores in 2017\n",
    "sat_total.sort_values('total_sat_2017').head()"
   ]
  },
  {
   "cell_type": "markdown",
   "metadata": {},
   "source": [
    "`District of Columbia` and `Delaware` have the lowest average Total SAT scores in 2017."
   ]
  },
  {
   "cell_type": "code",
   "execution_count": null,
   "metadata": {},
   "outputs": [],
   "source": [
    "# Which states have the lowest SAT scores in 2018\n",
    "sat_total.sort_values('total_sat_2018').head()"
   ]
  },
  {
   "cell_type": "markdown",
   "metadata": {},
   "source": [
    "`District of Columbia` and `Delaware` have the lowest SAT scores in 2017 and 2018."
   ]
  },
  {
   "cell_type": "markdown",
   "metadata": {},
   "source": [
    "### ACT Composite Scores"
   ]
  },
  {
   "cell_type": "code",
   "execution_count": null,
   "metadata": {},
   "outputs": [],
   "source": [
    "# ACT Total Scores\n",
    "act_total = final_combined[['state','composite_act_2017', 'composite_act_2018', 'composite_act_chg']].sort_values(\n",
    "    'composite_act_chg', ascending=False)\n",
    "act_total.head()"
   ]
  },
  {
   "cell_type": "markdown",
   "metadata": {},
   "source": [
    "`Colorado` and `Illinois` have the highest improvement in ACT scores."
   ]
  },
  {
   "cell_type": "code",
   "execution_count": null,
   "metadata": {},
   "outputs": [],
   "source": [
    "# Which states have the highest ACT composite scores in 2017\n",
    "act_total.sort_values('composite_act_2017', ascending=False).head()"
   ]
  },
  {
   "cell_type": "markdown",
   "metadata": {},
   "source": [
    "`New Hampshire`, `Massachusetts` and `Connecticut`are the top-3 states with highest ACT composite scores in 2017."
   ]
  },
  {
   "cell_type": "code",
   "execution_count": null,
   "metadata": {},
   "outputs": [],
   "source": [
    "# Which states have the highest ACT composite scores in 2018\n",
    "act_total.sort_values('composite_act_2018', ascending=False).head()"
   ]
  },
  {
   "cell_type": "markdown",
   "metadata": {},
   "source": [
    "`Connecticut`, `Massachusetts` and `New Hampshire` are again the top-3 states with highest ACT composite scores in 2018."
   ]
  },
  {
   "cell_type": "code",
   "execution_count": null,
   "metadata": {},
   "outputs": [],
   "source": [
    "# Which states have the lowest ACT composite scores in 2017\n",
    "act_total.sort_values('composite_act_2017').head()"
   ]
  },
  {
   "cell_type": "markdown",
   "metadata": {},
   "source": [
    "`Nevada`, `Mississippi` and `South Carolina` have the lowest ACT composite scores in 2017."
   ]
  },
  {
   "cell_type": "code",
   "execution_count": null,
   "metadata": {},
   "outputs": [],
   "source": [
    "# Which states have the lowest ACT composite scores in 2018\n",
    "act_total.sort_values('composite_act_2018').head()"
   ]
  },
  {
   "cell_type": "markdown",
   "metadata": {},
   "source": [
    "`Nevada`, `Mississippi` and `South Carolina` are again the states with the lowest ACT composite scores in 2018."
   ]
  },
  {
   "cell_type": "markdown",
   "metadata": {},
   "source": [
    "### States with >50% Participation Rate on both SAT & ACT"
   ]
  },
  {
   "cell_type": "code",
   "execution_count": null,
   "metadata": {},
   "outputs": [],
   "source": [
    "# Which states had >50% participation in both SAT and ACT in 2017\n",
    "states_gt_50pct_2017 = final_combined[(final_combined['part_sat_2017']>50) & (final_combined['part_act_2017']>50)]['state']\n",
    "states_gt_50pct_2017"
   ]
  },
  {
   "cell_type": "code",
   "execution_count": null,
   "metadata": {},
   "outputs": [],
   "source": [
    "# Which states had >50% participation in both SAT and ACT in 2018\n",
    "states_gt_50pct_2018 = final_combined[(final_combined['part_sat_2018']>50) & (final_combined['part_act_2018']>50)]['state']\n",
    "states_gt_50pct_2018"
   ]
  },
  {
   "cell_type": "code",
   "execution_count": null,
   "metadata": {},
   "outputs": [],
   "source": [
    "# Which states had >50% participation in both SAT and ACT in either 2017 or 2018\n",
    "states_gt_50pct = pd.merge(states_gt_50pct_2017,states_gt_50pct_2018,how='outer')['state'].values\n",
    "states_gt_50pct"
   ]
  },
  {
   "cell_type": "code",
   "execution_count": null,
   "metadata": {},
   "outputs": [],
   "source": [
    "# List the states and their participation rates\n",
    "final_combined[final_combined['state'].isin(states_gt_50pct)][['state','part_sat_2017','part_sat_2018', \n",
    "                                                               'part_act_2017','part_act_2018']].sort_values('state')"
   ]
  },
  {
   "cell_type": "markdown",
   "metadata": {},
   "source": [
    "There are 5 states (`Florida`, `Georgia`, `Hawaii`, `North Carolina`, `South Carolina`) with >50% participation rates in both SAT and ACT in either 2017 or 2018. All 5 states had >50% participation for both years in both SAT and ACT except North Carolina, which had 49% participation rate for SAT in 2017."
   ]
  },
  {
   "cell_type": "markdown",
   "metadata": {},
   "source": [
    "## Visualize the data\n",
    "\n",
    "There's not a magic bullet recommendation for the right number of plots to understand a given dataset, but visualizing your data is *always* a good idea. Not only does it allow you to quickly convey your findings (even if you have a non-technical audience), it will often reveal trends in your data that escaped you when you were looking only at numbers.\n",
    "\n",
    "Some recommendations on plotting:\n",
    "- Plots have titles\n",
    "- Plots have axis labels\n",
    "- Plots have appropriate tick labels\n",
    "- All text is legible in a plot\n",
    "- Plots demonstrate meaningful and valid relationships\n",
    "- Plots are interpreted to aid understanding\n",
    "\n",
    "There is such a thing as too many plots, and there are a *lot* of bad plots. You might make some! (But hopefully not with the guided prompts below)."
   ]
  },
  {
   "cell_type": "code",
   "execution_count": null,
   "metadata": {},
   "outputs": [],
   "source": [
    "final_combined.head()"
   ]
  },
  {
   "cell_type": "code",
   "execution_count": null,
   "metadata": {},
   "outputs": [],
   "source": [
    "# plot sat and act scores in 2017 using sns scatterplot and 2018 using seaborn regplot\n",
    "plt.style.use('seaborn');\n",
    "fig, ax = plt.subplots(ncols=2,figsize=(15,6))\n",
    "ax[0].set_title('SAT Score')\n",
    "ax[1].set_title('ACT Score')\n",
    "sns.scatterplot(x=final_combined['total_sat_2017'], y=final_combined['composite_act_2017'], ax=ax[0])\n",
    "ax[0].axvline(final_combined['total_sat_2017'].mean(), color='k', alpha=0.5, linestyle='--', linewidth=1)\n",
    "ax[0].axhline(final_combined['composite_act_2017'].mean(), color='k', alpha=0.5, linestyle='--', linewidth=1)\n",
    "\n",
    "sns.regplot(x=final_combined['total_sat_2018'], y=final_combined['composite_act_2018'], ax=ax[1]);\n",
    "ax[1].axvline(final_combined['total_sat_2018'].mean(), color='k', alpha=0.5, linestyle='--', linewidth=1)\n",
    "ax[1].axhline(final_combined['composite_act_2018'].mean(), color='k', alpha=0.5, linestyle='--', linewidth=1);"
   ]
  },
  {
   "cell_type": "code",
   "execution_count": null,
   "metadata": {},
   "outputs": [],
   "source": [
    "# plot histogram for SAT participation rate, EBRW, Math and Total scores in 2017\n",
    "# using sns histplot, add mean and median lines\n",
    "plotlist = ['part_sat_2017','ebrw_sat_2017','math_sat_2017','total_sat_2017']\n",
    "figure, ax = plt.subplots(4,1,figsize=(8,16))\n",
    "figure.subplots_adjust(hspace=0.5)\n",
    "for i, column in enumerate(plotlist):\n",
    "    bin_start = final_combined[column].min() // 50 * 50\n",
    "    bin_end =  np.ceil(final_combined[column].max() / 50) * 50\n",
    "    bin_step = 10 if (bin_end - bin_start) == 100 else 20\n",
    "    sns.histplot(final_combined[plotlist[i]], bins=np.arange(bin_start,bin_end,bin_step),ax=ax[i])\n",
    "    \n",
    "    median = final_combined[column].median()\n",
    "    mean = final_combined[column].mean()\n",
    "\n",
    "    ax[i].axvline(median, color='g', linestyle='dashed', linewidth=1)\n",
    "    ax[i].axvline(mean, color='b', linestyle='dashed', linewidth=1)"
   ]
  },
  {
   "cell_type": "code",
   "execution_count": null,
   "metadata": {},
   "outputs": [],
   "source": [
    "# plot SAT participation rates by states using sns barplot \n",
    "part_2018_gt50 = final_combined[['state','part_sat_2018']][final_combined['part_sat_2018']>=50]. \\\n",
    "    sort_values('part_sat_2018', ascending=False)\n",
    "part_2018_lt50 = final_combined[['state','part_sat_2018']][final_combined['part_sat_2018']<50]. \\\n",
    "    sort_values('part_sat_2018', ascending=False)\n",
    "\n",
    "fig, ax = plt.subplots(ncols=2, figsize=(20,10))\n",
    "fig.subplots_adjust(wspace=0.3)\n",
    "fig.suptitle('SAT Participation Rates in 2018', fontsize=15)\n",
    "ax[0].set_title('States with >50% Participation Rates')\n",
    "ax[1].set_title('States with <50% Participation Rates')\n",
    "\n",
    "sns.barplot(data=part_2018_gt50, x='part_sat_2018', y='state', ax=ax[0], color='k', alpha=0.35)\n",
    "ax[0].set(xlabel=None);\n",
    "sns.barplot(data=part_2018_lt50, x='part_sat_2018', y='state', ax=ax[1], color='k', alpha=0.35);\n",
    "ax[1].set_xlim(right=100);\n",
    "ax[1].set(xlabel=None);\n",
    "plt.savefig('../images/SAT_participation_rates')"
   ]
  },
  {
   "cell_type": "code",
   "execution_count": null,
   "metadata": {},
   "outputs": [],
   "source": [
    "# plot change in SAT participation rates by states using sns barplot \n",
    "part_chg_pos = final_combined[['state','part_sat_chg']][final_combined['part_sat_chg']>0]. \\\n",
    "    sort_values('part_sat_chg', ascending=False)\n",
    "part_chg_neg = final_combined[['state','part_sat_chg']][final_combined['part_sat_chg']<=0]. \\\n",
    "    sort_values('part_sat_chg')\n",
    "\n",
    "fig, ax = plt.subplots(ncols=2, figsize=(20,10))\n",
    "fig.subplots_adjust(wspace=0.3)\n",
    "fig.suptitle('Change in SAT Participation Rates', fontsize=15)\n",
    "ax[0].set_title('States Increasing in Participation Rates')\n",
    "ax[1].set_title('States with Decreasing/ No Change in Participation Rates')\n",
    "\n",
    "sns.barplot(data=part_chg_pos, x='part_sat_chg', y='state', ax=ax[0], color='k', alpha=0.35)\n",
    "ax[0].set(xlabel=None);\n",
    "sns.barplot(data=part_chg_neg, x='part_sat_chg', y='state', ax=ax[1], color='k', alpha=0.35);\n",
    "ax[1].set(xlabel=None);\n",
    "plt.savefig('../images/SAT_participation_change')"
   ]
  },
  {
   "cell_type": "code",
   "execution_count": null,
   "metadata": {},
   "outputs": [],
   "source": [
    "# plot ACT participation rates by states using horizontal barplots\n",
    "part_2018_gt50 = final_combined[['state','part_act_2018']][final_combined['part_act_2018']>=50]. \\\n",
    "    sort_values('part_act_2018')\n",
    "part_2018_lt50 = final_combined[['state','part_act_2018']][final_combined['part_act_2018']<50]. \\\n",
    "    sort_values('part_act_2018')\n",
    "\n",
    "# plot the barplots\n",
    "fig, ax = plt.subplots(ncols=2, figsize=(20,10))\n",
    "part_2018_gt50.plot(kind='barh', x='state', ax=ax[0], xlim=(0,100), color='k', alpha=0.35, legend=False);\n",
    "part_2018_lt50.plot(kind='barh', x='state', ax=ax[1], xlim=(0,100), color='k', alpha=0.35, legend=False);\n",
    "\n",
    "# add in titles and labels\n",
    "fig.suptitle('ACT Participation Rates in 2018', fontsize=15)\n",
    "plt.subplots_adjust(wspace=0.3)\n",
    "ax[0].set_title('States with >50% Participation Rates')\n",
    "ax[1].set_title('States with <50% Participation Rates');\n",
    "plt.savefig('../images/act_participation_rates')"
   ]
  },
  {
   "cell_type": "markdown",
   "metadata": {},
   "source": [
    "#### Use Seaborn's heatmap with pandas `.corr()` to visualize correlations between all numeric features\n",
    "\n",
    "Heatmaps are generally not appropriate for presentations, and should often be excluded from reports as they can be visually overwhelming. **However**, they can be extremely useful in identify relationships of potential interest (as well as identifying potential collinearity before modeling).\n",
    "\n",
    "*example*:\n",
    "```python\n",
    "sns.heatmap(df.corr())\n",
    "```\n",
    "\n",
    "Please take time to format your output, adding a title. Look through some of the additional arguments and options. (Axis labels aren't really necessary, as long as the title is informative)."
   ]
  },
  {
   "cell_type": "code",
   "execution_count": null,
   "metadata": {},
   "outputs": [],
   "source": [
    "final_combined.columns"
   ]
  },
  {
   "cell_type": "code",
   "execution_count": null,
   "metadata": {},
   "outputs": [],
   "source": [
    "corr_list = ['part_sat_2017', 'ebrw_sat_2017', 'math_sat_2017',\n",
    "       'total_sat_2017', 'part_act_2017', 'english_act_2017', 'math_act_2017',\n",
    "       'reading_act_2017', 'science_act_2017', 'composite_act_2017',\n",
    "       'part_sat_2018', 'ebrw_sat_2018', 'math_sat_2018', 'total_sat_2018',\n",
    "       'part_act_2018', 'composite_act_2018', 'english_act_2018',\n",
    "       'math_act_2018', 'reading_act_2018', 'science_act_2018']\n",
    "\n",
    "plt.figure(figsize=(16,10))\n",
    "plt.title('Correlation of SAT and ACT scores')\n",
    "mask = np.triu(final_combined[corr_list].corr())\n",
    "cmap = sns.diverging_palette(230, 20, as_cmap=True)\n",
    "sns.heatmap(final_combined[corr_list].corr(), annot=True, cmap=cmap, mask=mask, vmin=-1, vmax=1);"
   ]
  },
  {
   "cell_type": "code",
   "execution_count": null,
   "metadata": {},
   "outputs": [],
   "source": [
    "fig, ax = plt.subplots(ncols=2, figsize=(15,8))\n",
    "plt.subplots_adjust(wspace=0.4)\n",
    "sns.heatmap(final_combined[corr_list].corr()[['part_sat_2018']].sort_values('part_sat_2018', ascending=False),\n",
    "            annot=True, cmap='coolwarm', ax=ax[0], vmin=-1, vmax=1);\n",
    "sns.heatmap(final_combined[corr_list].corr()[['part_act_2018']].sort_values('part_act_2018', ascending=False),\n",
    "            annot=True, cmap='coolwarm', ax=ax[1], vmin=-1, vmax=1);"
   ]
  },
  {
   "cell_type": "markdown",
   "metadata": {},
   "source": [
    "- Participation rates have an inverse correlation with subject and total scores, as more students take part, the sample mean comes closer to the population mean."
   ]
  },
  {
   "cell_type": "code",
   "execution_count": null,
   "metadata": {},
   "outputs": [],
   "source": [
    "plt.style.use('seaborn');\n",
    "ax = sns.regplot(data=final_combined,x='part_sat_2018', y='total_sat_2018')\n",
    "ax.set(xlabel='2018 SAT Participation Rate', ylabel='2018 Total Score', title='2018 SAT Participation vs. Total Score ');\n",
    "ax.axvline(final_combined['part_sat_2018'].mean(), linestyle='--', linewidth=1, color='k', alpha=0.35)\n",
    "ax.axhline(final_combined['total_sat_2018'].mean(), linestyle='--', linewidth=1, color='k', alpha=0.35);"
   ]
  },
  {
   "cell_type": "markdown",
   "metadata": {},
   "source": [
    "> **As participation rates increase, SAT scores decrease.**"
   ]
  },
  {
   "cell_type": "markdown",
   "metadata": {},
   "source": [
    "#### Define a custom function to subplot histograms\n",
    "\n",
    "We have data for two tests for two years. We only have composite (and not subtest scores) for the 2018 ACT. We should write a function that will take the names of 2+ columns and subplot histograms. While you can use pandas plotting or Seaborn here, matplotlib gives you greater control over all aspects of your plots.\n",
    "\n",
    "[Helpful Link for Plotting Multiple Figures](https://matplotlib.org/users/pyplot_tutorial.html#working-with-multiple-figures-and-axes)\n",
    "\n",
    "Here's some starter code:"
   ]
  },
  {
   "cell_type": "code",
   "execution_count": null,
   "metadata": {},
   "outputs": [],
   "source": [
    "def subplot_histograms(dataframe, list_of_columns, list_of_titles, list_of_xlabels):\n",
    "    nrows = int(np.ceil(len(list_of_columns)/2)) # Makes sure you have enough rows\n",
    "    fig, ax = plt.subplots(nrows=nrows, ncols=2, figsize=(15,8), sharey=True) # You'll want to specify your figsize\n",
    "    plt.subplots_adjust(hspace=0.4) # Ensure spacing between subplots\n",
    "    \n",
    "    ax = ax.ravel() # Ravel turns a matrix into a vector, which is easier to iterate\n",
    "    for i, column in enumerate(list_of_columns): # Gives us an index value to get into all our lists\n",
    "        sns.histplot(dataframe[column], bins=10, ax=ax[i], kde=True)\n",
    "        ax[i].set_title(list_of_titles[i]) # Set titles, labels, etc here for each subplot\n",
    "        ax[i].set_xlabel(list_of_xlabels[i])\n",
    "        ax[i].axvline(dataframe[column].mean(), color='b', linestyle='dashed', linewidth=1) # plot median line\n",
    "        ax[i].axvline(dataframe[column].median(), color='g', linestyle='dashed', linewidth=1) # plot mean line"
   ]
  },
  {
   "cell_type": "markdown",
   "metadata": {},
   "source": [
    "#### Plot and interpret histograms \n",
    "For each of the following:\n",
    "- Participation rates for SAT & ACT\n",
    "- Math scores for SAT & ACT\n",
    "- Reading/verbal scores for SAT & ACT"
   ]
  },
  {
   "cell_type": "markdown",
   "metadata": {},
   "source": [
    "### Participation rates for SAT & ACT"
   ]
  },
  {
   "cell_type": "code",
   "execution_count": null,
   "metadata": {},
   "outputs": [],
   "source": [
    "columns = ['part_sat_2017', 'part_act_2017','part_sat_2018', 'part_act_2018']\n",
    "titles = ['SAT 2017', 'ACT 2017', 'SAT 2018', 'ACT 2018']\n",
    "xlabels = ['Participation rate', 'Participation rate', 'Participation rate', 'Participation rate']\n",
    "subplot_histograms(final_combined, columns, titles, xlabels)\n",
    "\n",
    "# green dotted line is the median value\n",
    "# blue dotted line is the mean value"
   ]
  },
  {
   "cell_type": "markdown",
   "metadata": {},
   "source": [
    "- #### Participation rates for SAT 2017:\n",
    "    - **Shape**: The distribution is skewed right and is multimodal. First peak is at 0%, with a second peak at 65 and a third peak at 100%.\n",
    "    - **Center**: The data is centered around 40%. The median is slightly below the mean, an indication that half of states have participation rates below 40%.\n",
    "    - **Spread**: The data spreads from around 2% to 100%, with a range of about 98%.\n",
    "\n",
    "- #### Participation rates for SAT 2018:\n",
    "    - **Shape**: The distribution is skewed right and is multimodal. First peak is at 0%, with a second peak at 65% and a third peak at 100%.\n",
    "    - **Center**: The data is centered around 45%. The median is above the mean, an indication that more than half of states have participation rates above 45%.\n",
    "    - **Spread**: The data spreads from around 2% to 100%, with a range of about 98%.\n",
    "\n",
    "- #### Participation rates for ACT 2017:\n",
    "    - **Shape**: The distribution is skewed left and is bimodal. First peak is at 100%, with a second peak at 30%.\n",
    "    - **Center**: The data is centered around 65%. The median is above the mean, an indication that more than half of states have participation rates above 65%.\n",
    "    - **Spread**: The data spreads from around 8% to 100%, with a range of about 92%.\n",
    "\n",
    "- #### Participation rates for ACT 2018:\n",
    "    - **Shape**: The distribution is skewed left and is multimodal. First peak is at 100%, with a second peak at 30% and a third peak around 65%.\n",
    "    - **Center**: The data is centered around 62%. The median is above the mean, an indication that more than half of states have participation rates above 62%.\n",
    "    - **Spread**: The data spreads from around 8% to 100%, with a range of about 92%."
   ]
  },
  {
   "cell_type": "markdown",
   "metadata": {},
   "source": [
    "### Math scores for SAT & ACT"
   ]
  },
  {
   "cell_type": "code",
   "execution_count": null,
   "metadata": {},
   "outputs": [],
   "source": [
    "columns = ['math_sat_2017', 'math_act_2017', 'math_sat_2018', 'math_act_2018']\n",
    "titles = ['SAT 2017', 'ACT 2017', 'SAT 2018', 'ACT 2018']\n",
    "xlabels = ['Math Score', 'Math Score', 'Math Score', 'Math Score']\n",
    "subplot_histograms(final_combined, columns, titles, xlabels)\n",
    "\n",
    "# green dotted line is the median value\n",
    "# blue dotted line is the mean value"
   ]
  },
  {
   "cell_type": "markdown",
   "metadata": {},
   "source": [
    "- #### SAT 2017 math scores:\n",
    "    - **Shape**: The distribution is skewed right. More states score in the lower range. There is a second smaller peak around 610.\n",
    "    - **Center**: The data is centered around 550. The median is below the mean, as more states score in the lower range.\n",
    "    - **Spread**: The data spreads from around 470 to 650, with a range of about 180.\n",
    "- #### SAT 2018 math scores:\n",
    "    - **Shape**: The distribution is skewed right. More states score in the lower range. There is a second smaller peak around 625.\n",
    "    - **Center**: The data is centered around 550. The median is below the mean, as more states score in the lower range.\n",
    "    - **Spread**: The data spreads from around 480 to 650, with a range of about 170.\n",
    "- #### ACT 2017 math scores:\n",
    "    - **Shape**: The distribution is slightly skewed right and looks multimodal. The peak is around 19, the second smaller peak is around 21 and the third smaller peak is around 23.5.\n",
    "    - **Center**: The data is centered around 21. The median is below the mean, as more states score in the lower range.\n",
    "    - **Spread**: The data spreads from around 18 to 26, with a range of 8.\n",
    "- #### ACT 2018 math scores:\n",
    "    - **Shape**: The distribution is slightly skewed right and bimodal with a peak at around 20 and a second peak at around 23.5.\n",
    "    - **Center**: The data is centered around 21. The median is below the mean, as more states score in the lower range.\n",
    "    - **Spread**: The data spreads from slightly below 18 to slightly above 25, with a range of around 8."
   ]
  },
  {
   "cell_type": "markdown",
   "metadata": {},
   "source": [
    "### Reading/verbal scores for SAT & ACT"
   ]
  },
  {
   "cell_type": "code",
   "execution_count": null,
   "metadata": {},
   "outputs": [],
   "source": [
    "columns = ['ebrw_sat_2017', 'reading_act_2017', 'ebrw_sat_2018', 'reading_act_2018']\n",
    "titles = ['SAT 2017', 'ACT 2017', 'SAT 2018', 'ACT 2018']\n",
    "xlabels = ['EBRW Score', 'Reading Score', 'EBRW Score', 'Reading Score']\n",
    "subplot_histograms(final_combined, columns, titles, xlabels)\n",
    "\n",
    "# green dotted line is the median value\n",
    "# blue dotted line is the mean value"
   ]
  },
  {
   "cell_type": "markdown",
   "metadata": {},
   "source": [
    "- #### SAT 2017 EBRW scores:\n",
    "    - **Shape**: The distribution is bimodal. The data peaks at around 540, with a second smaller peak around 640. More states score in the lower range.\n",
    "    - **Center**: The data is centered around 570. The median is below the mean, as more states score in the lower range.\n",
    "    - **Spread**: The data spreads from around 480 to 640, with a range of about 160.\n",
    "- #### SAT 2018 EBRW scores:\n",
    "    - **Shape**: The distribution is bimodal. The data peaks at around 640, with a second smaller peak around 540. More states score in the lower range. \n",
    "    - **Center**: The data is centered around 560. The median is below the mean, as more states score in the lower range.\n",
    "    - **Spread**: The data spreads from around 480 to 640, with a range of about 160.\n",
    "- #### ACT 2017 Reading scores:\n",
    "    - **Shape**: The distribution is multi-modal. The first peak is around 21, the second smaller peak is around 25 and the third smaller peak is around 22.5.\n",
    "    - **Center**: The data is centered around 22. The median is slightly below the mean. This implies that slightly more than half of the states score below 22.\n",
    "    - **Spread**: The data spreads from around 18 to 26, with a range of 8.\n",
    "- #### ACT 2018 Reading scores:\n",
    "    - **Shape**: The distribution is slightly skewed right and bimodal with a peak at around 21 and a second peak at around 25.\n",
    "    - **Center**: The data is centered around 22. The median is below the mean, as more states score in the lower range.\n",
    "    - **Spread**: The data spreads from slightly below 18 to 26, with a range of around 8."
   ]
  },
  {
   "cell_type": "markdown",
   "metadata": {},
   "source": [
    "#### Plot and interpret scatter plots\n",
    "\n",
    "For each of the following:\n",
    "- SAT vs. ACT math scores for 2017\n",
    "- SAT vs. ACT verbal/reading scores for 2017\n",
    "- SAT vs. ACT total/composite scores for 2017\n",
    "- Total scores for SAT 2017 vs. 2018\n",
    "- Composite scores for ACT 2017 vs. 2018\n",
    "\n",
    "Plot the two variables against each other using matplotlib or Seaborn\n",
    "\n",
    "Your plots should show:\n",
    "- Two clearly labeled axes\n",
    "- A proper title\n",
    "- Using colors and symbols that are clear and unmistakable\n",
    "\n",
    "**Feel free to write a custom function, and subplot if you'd like.** Functions save both time and space.\n"
   ]
  },
  {
   "cell_type": "code",
   "execution_count": null,
   "metadata": {},
   "outputs": [],
   "source": [
    "plt.style.use('seaborn');\n",
    "def subplotscatter(dataset, xs, ys, titles, axis_labels):\n",
    "    rows = int(np.ceil(len(xs)/2));\n",
    "    fig, ax = plt.subplots(ncols=2, figsize=(15,6));\n",
    "        \n",
    "    if len(xs) > 1:\n",
    "        ax = ax.ravel();\n",
    "        \n",
    "    for i, column in enumerate(xs):\n",
    "        # use regplot\n",
    "        sns.regplot(x=dataset[xs[i]], y=dataset[ys[i]], ax=ax[i]);\n",
    "        \n",
    "        # add title, axis labels and line for mean value on both axis\n",
    "        ax[i].set_title(titles[i]);\n",
    "        ax[i].set_xlabel(axis_labels[i][0]);\n",
    "        ax[i].set_ylabel(axis_labels[i][1]);\n",
    "        ax[i].axvline(dataset[xs[i]].mean(), color='k', linestyle='--', linewidth=1, alpha=0.3);\n",
    "        ax[i].axhline(dataset[ys[i]].mean(), color='k', linestyle='--', linewidth=1, alpha=0.3);"
   ]
  },
  {
   "cell_type": "markdown",
   "metadata": {},
   "source": [
    "### SAT vs. ACT math scores and verbal/reading scores for 2017"
   ]
  },
  {
   "cell_type": "code",
   "execution_count": null,
   "metadata": {},
   "outputs": [],
   "source": [
    "xs = ['math_sat_2017', 'ebrw_sat_2017']\n",
    "ys = ['math_act_2017', 'reading_act_2017']\n",
    "titles = ['Math Scores for 2017','Verbal/reading Scores for 2017']\n",
    "axis_labels = [['SAT', 'ACT'], ['SAT', 'ACT']]\n",
    "subplotscatter(final_combined, xs, ys, titles, axis_labels)\n",
    "\n",
    "# dotted axis shows the mean score"
   ]
  },
  {
   "cell_type": "markdown",
   "metadata": {},
   "source": [
    "- There is no clear correlation between SAT and ACT math and verbal/reading scores in 2017. States with higher SAT scores have lower ACT scores and vice versa.\n",
    "- There are no states with high math or verbal/reading scores in both ACT and SAT.\n",
    "- There are 11 states in the lower range for both SAT and ACT math scores. There are also 11 states in the lower range for both SAT and ACT verbal/reading scores."
   ]
  },
  {
   "cell_type": "markdown",
   "metadata": {},
   "source": [
    "### SAT vs. ACT total/composite scores for 2017"
   ]
  },
  {
   "cell_type": "code",
   "execution_count": null,
   "metadata": {},
   "outputs": [],
   "source": [
    "x = 'total_sat_2017'\n",
    "y = 'composite_act_2017'\n",
    "title = ['Total/ Composite Scores for 2017']\n",
    "ax = sns.regplot(x=final_combined[x], y=final_combined[y]);\n",
    "ax.set_title(title);\n",
    "ax.set_xlabel('SAT');\n",
    "ax.set_ylabel('ACT');\n",
    "ax.axvline(final_combined[x].mean(), color='k', linestyle='--', linewidth=1, alpha=0.3);\n",
    "ax.axhline(final_combined[y].mean(), color='k', linestyle='--', linewidth=1, alpha=0.3);"
   ]
  },
  {
   "cell_type": "markdown",
   "metadata": {},
   "source": [
    "- No clear correlation between SAT and ACT total scores. A state which had higher SAT total score will not have a high composite ACT score and vice versa.\n",
    "- No states have high total scores in both SAT and ACT.\n",
    "- 12 states have total scores below average in both SAT and ACT."
   ]
  },
  {
   "cell_type": "markdown",
   "metadata": {},
   "source": [
    "### Total scores for SAT 2017 vs. 2018 and Composite scores for ACT 2017 vs. 2018"
   ]
  },
  {
   "cell_type": "code",
   "execution_count": null,
   "metadata": {},
   "outputs": [],
   "source": [
    "xs = ['total_sat_2017', 'composite_act_2017']\n",
    "ys = ['total_sat_2018', 'composite_act_2018']\n",
    "titles = ['SAT Total Scores','ACT Composite Scores']\n",
    "axis_labels = [['2017', '2018'], ['2017', '2018']]\n",
    "subplotscatter(final_combined, xs, ys, titles, axis_labels);\n",
    "plt.savefig('../images/total_score_change.png')"
   ]
  },
  {
   "cell_type": "markdown",
   "metadata": {},
   "source": [
    "- There is a positive linear correlation between SAT total scores in 2017 and 2018.\n",
    "- There is a positive linear correlation between ACT composite scores in 2017 and 2018.\n",
    "- 2 states had lower than average SAT total scores in 2018 after scoring high in 2017.\n",
    "- 2 states had higher composite scores in 2018 after scoring below average in 2017."
   ]
  },
  {
   "cell_type": "markdown",
   "metadata": {},
   "source": [
    "#### Which 2 states had the highest drop in total scores in 2018?"
   ]
  },
  {
   "cell_type": "code",
   "execution_count": null,
   "metadata": {},
   "outputs": [],
   "source": [
    "final_combined[['state','total_sat_2017', 'total_sat_2018', 'total_sat_chg']].sort_values('total_sat_chg').head()"
   ]
  },
  {
   "cell_type": "markdown",
   "metadata": {},
   "source": [
    "- Utah and Colorado."
   ]
  },
  {
   "cell_type": "markdown",
   "metadata": {},
   "source": [
    "#### Which 2 states had the highest increase in total scores in 2018?"
   ]
  },
  {
   "cell_type": "code",
   "execution_count": null,
   "metadata": {},
   "outputs": [],
   "source": [
    "final_combined[['state','total_sat_2017', 'total_sat_2018', 'total_sat_chg']].sort_values('total_sat_chg', ascending=False).head()"
   ]
  },
  {
   "cell_type": "markdown",
   "metadata": {},
   "source": [
    "#### Which 2 states had the highest improvement in ACT composite scores in 2018?"
   ]
  },
  {
   "cell_type": "code",
   "execution_count": null,
   "metadata": {},
   "outputs": [],
   "source": [
    "final_combined[['state','composite_act_2017', 'composite_act_2018', 'composite_act_chg']].sort_values('composite_act_chg', ascending=False).head()"
   ]
  },
  {
   "cell_type": "markdown",
   "metadata": {},
   "source": [
    "- Colorado and Illinois."
   ]
  },
  {
   "cell_type": "markdown",
   "metadata": {},
   "source": [
    "#### Plot and interpret boxplots\n",
    "\n",
    "For each numeric variable in the dataframe create a boxplot using Seaborn. Boxplots demonstrate central tendency and spread in variables. In a certain sense, these are somewhat redundant with histograms, but you may be better able to identify clear outliers or differences in IQR, etc.\n",
    "\n",
    "Multiple values can be plotted to a single boxplot as long as they are of the same relative scale (meaning they have similar min/max values).\n",
    "\n",
    "Each boxplot should:\n",
    "- Only include variables of a similar scale\n",
    "- Have clear labels for each variable\n",
    "- Have appropriate titles and labels"
   ]
  },
  {
   "cell_type": "code",
   "execution_count": null,
   "metadata": {},
   "outputs": [],
   "source": [
    "# prepare the columns with same scale for boxplot, with proper labels\n",
    "part_list = {'2017 SAT participation rate':'part_sat_2017',\n",
    "             '2018 SAT participation rate':'part_sat_2018',\n",
    "             '2017 ACT participation rate':'part_act_2017',\n",
    "             '2018 ACT participation rate':'part_act_2018'}\n",
    "sat_list = {'2017 SAT EBRW score': 'ebrw_sat_2017',\n",
    "            '2018 SAT EBRW score':'ebrw_sat_2018',\n",
    "            '2017 SAT Math score':'math_sat_2017',\n",
    "            '2018 SAT Math score':'math_sat_2018'}\n",
    "sat_total_list = {'2017 SAT Total score':'total_sat_2017',\n",
    "                  '2018 SAT Total score':'total_sat_2018'}\n",
    "act_list = {'2017 ACT English score':'english_act_2017',\n",
    "            '2018 ACT English score':'english_act_2018',\n",
    "            '2017 ACT Math score':'math_act_2017',\n",
    "            '2018 ACT Math score':'math_act_2018',\n",
    "            '2017 ACT Reading score':'reading_act_2017',\n",
    "            '2018 ACT Reading score':'reading_act_2018',\n",
    "            '2017 ACT Science score':'science_act_2017',\n",
    "            '2018 ACT Science score':'science_act_2018',\n",
    "            '2017 ACT Composite score':'composite_act_2017',\n",
    "            '2018 ACT Composite score':'composite_act_2018'}"
   ]
  },
  {
   "cell_type": "code",
   "execution_count": null,
   "metadata": {},
   "outputs": [],
   "source": [
    "# part_list = ['part_sat_2017', 'part_sat_2018', 'part_act_2017', 'part_act_2018']\n",
    "# sat_list = ['ebrw_sat_2017', 'ebrw_sat_2018', 'math_sat_2017', 'math_sat_2018']\n",
    "# sat_total_list = ['total_sat_2017', 'total_sat_2018']\n",
    "# act_list = ['english_act_2017', 'english_act_2018', 'math_act_2017', 'math_act_2018',\n",
    "#            'reading_act_2017', 'reading_act_2018', 'science_act_2017', 'science_act_2018',\n",
    "#            'composite_act_2017','composite_act_2018']"
   ]
  },
  {
   "cell_type": "code",
   "execution_count": null,
   "metadata": {},
   "outputs": [],
   "source": [
    "plt.style.use('fivethirtyeight')\n",
    "plt.figure(figsize=(12,4))\n",
    "ax = sns.boxplot(data=final_combined[part_list.values()], orient='h');\n",
    "sns.swarmplot(data=final_combined[part_list.values()], ax=ax)\n",
    "ax.set_title('Boxplots of Participation Rates', fontsize=16);\n",
    "ax.set_yticklabels(part_list.keys(), fontsize=12);"
   ]
  },
  {
   "cell_type": "markdown",
   "metadata": {},
   "source": [
    "- SAT participation in 2018 has improved. Median and 3rd quartile value have both increased in 2018. More than half of states have above 50% SAT participation in 2018.\n",
    "\n",
    "\n",
    "- ACT participation rates have dropped slightly. Median has decreased in 2018 albeit still higher than SAT's median participation rate. 3rd quartile value remains at 100."
   ]
  },
  {
   "cell_type": "code",
   "execution_count": null,
   "metadata": {},
   "outputs": [],
   "source": [
    "plt.figure(figsize=(12,4))\n",
    "ax = sns.boxplot(data=final_combined[sat_list.values()], orient='h');\n",
    "ax.set_title('Boxplots of SAT Subject Scores', fontsize=16);\n",
    "ax.set_yticklabels(sat_list.keys(), fontsize=12);"
   ]
  },
  {
   "cell_type": "markdown",
   "metadata": {},
   "source": [
    "- Both median SAT Math and Writing scores have dropped in 2018. Upper quartile values have also gone down for both. Median scores are closer to lower quartile than to the upper quartile. This suggests that data is skewed right. \n",
    "\n",
    "\n",
    "- SAT Math median scores are lower than SAT Writing median scores. Most states have higher EBRW scores than Math scores.  "
   ]
  },
  {
   "cell_type": "code",
   "execution_count": null,
   "metadata": {},
   "outputs": [],
   "source": [
    "plt.figure(figsize=(12,2))\n",
    "ax = sns.boxplot(data=final_combined[sat_total_list.values()], orient='h');\n",
    "ax.set_title('Boxplots of SAT Total Scores', fontsize=16);\n",
    "ax.set_yticklabels(sat_total_list.keys(), fontsize=12);"
   ]
  },
  {
   "cell_type": "markdown",
   "metadata": {},
   "source": [
    "- Median and upper quartile SAT total scores have dropped. Inter-quartile range have decreased. "
   ]
  },
  {
   "cell_type": "code",
   "execution_count": null,
   "metadata": {},
   "outputs": [],
   "source": [
    "plt.figure(figsize=(12,8))\n",
    "ax = sns.boxplot(data=final_combined[act_list.values()], orient='h');\n",
    "ax.set_title('Boxplots of ACT Scores', fontsize=16);\n",
    "ax.set_yticklabels(act_list.keys(), fontsize=12);"
   ]
  },
  {
   "cell_type": "markdown",
   "metadata": {},
   "source": [
    "- Median `English` score have dropped but upper quartile score has increased, showing improvement in English scores.\n",
    "- Median `Math` score dropped, inter-quartile range remains the same.\n",
    "- Median `Reading` score dropped, inter-quartile range remains the same.\n",
    "- Median `Science` score dropped, inter-quartile range dropped.\n",
    "- Median `Composite` score dropped slightly, with inter-quartile range narrowing"
   ]
  },
  {
   "cell_type": "markdown",
   "metadata": {},
   "source": [
    "#### Feel free to do additional plots below\n",
    "*(do research and choose your own chart types & variables)*\n",
    "\n",
    "Are there any additional trends or relationships you haven't explored? Was there something interesting you saw that you'd like to dive further into? It's likely that there are a few more plots you might want to generate to support your narrative and recommendations that you are building toward. **As always, make sure you're interpreting your plots as you go**."
   ]
  },
  {
   "cell_type": "code",
   "execution_count": null,
   "metadata": {},
   "outputs": [],
   "source": [
    "# plot SAT and ACT change in participation rates using sns jointplot\n",
    "states_sorted = final_combined[['state', 'part_sat_chg', 'part_act_chg']].sort_values('part_sat_chg', ascending=False)\n",
    "x = states_sorted['part_sat_chg']\n",
    "y = states_sorted['part_act_chg']\n",
    "states = states_sorted['state']\n",
    "\n",
    "plt.style.use('ggplot')\n",
    "\n",
    "# add title and axis labels\n",
    "ax = sns.jointplot(x=x, y=y, kind=\"hex\", color=\"#277DB3\", height=8);\n",
    "ax.fig.suptitle('Change in Participation from 2017 to 2018', fontsize=15)\n",
    "ax.set_axis_labels('Change in SAT Participation', 'Change in ACT Participation')\n",
    "ax.fig.tight_layout()\n",
    "\n",
    "# add name of most improved state\n",
    "state1 = x[x==x.iloc[0]].index\n",
    "state2 = x[x==x.iloc[1]].index\n",
    "\n",
    "plt.text(-20, y[state1].values[0], states[state1].values[0]);\n",
    "plt.text(-23, y[state2].values[0], states[state2].values[0]);\n",
    "plt.savefig('')"
   ]
  },
  {
   "cell_type": "markdown",
   "metadata": {},
   "source": [
    "- Change in ACT participation rates range from -70% to +20% while change in SAT participation rates range from -10% to +80%.\n",
    "- Hugh drop in ACT participation in two states as they shifted to taking SAT in 2018"
   ]
  },
  {
   "cell_type": "markdown",
   "metadata": {},
   "source": [
    "### Recap SAT's performance in 2018"
   ]
  },
  {
   "cell_type": "markdown",
   "metadata": {},
   "source": [
    "**How many states have increased SAT participation in 2018?**"
   ]
  },
  {
   "cell_type": "code",
   "execution_count": null,
   "metadata": {},
   "outputs": [],
   "source": [
    "states_sat_part_2017 = final_combined['part_sat_2017'].mean()\n",
    "states_sat_part_2018 = final_combined['part_sat_2018'].mean()\n",
    "states_sat_part_up = len(final_combined.loc[final_combined['part_sat_chg']>0])\n",
    "print('Average SAT participation in 2018 is {:.0f}%, increasing {:.1f}% from 2017.'.format(states_sat_part_2018,\n",
    "                                                                    states_sat_part_2018-states_sat_part_2017))\n",
    "print('{} states increased participation in 2018, {:.0f}% of all states.'\n",
    "      .format(states_sat_part_up, round(states_sat_part_up/51,2)*100))"
   ]
  },
  {
   "cell_type": "markdown",
   "metadata": {},
   "source": [
    "**Did scores improve in 2018?**"
   ]
  },
  {
   "cell_type": "code",
   "execution_count": null,
   "metadata": {},
   "outputs": [],
   "source": [
    "# Total\n",
    "states_sat_total_up = len(final_combined.loc[final_combined['total_sat_chg']>0])\n",
    "total_2017_avg = final_combined['total_sat_2017'].mean()\n",
    "total_2018_avg = final_combined['total_sat_2018'].mean()\n",
    "print('The average total score in 2017 was {:.0f}. In 2018, the average is {:.0f}.'.format(total_2017_avg, total_2018_avg))\n",
    "print('{} states improved their total scores in 2018, {:.0f}% of all states.'\n",
    "      .format(states_sat_total_up, round(states_sat_total_up/51,2)*100))"
   ]
  },
  {
   "cell_type": "code",
   "execution_count": null,
   "metadata": {},
   "outputs": [],
   "source": [
    "# EBRW\n",
    "states_sat_ebrw_up = len(final_combined.loc[final_combined['ebrw_sat_chg']>0])\n",
    "ebrw_2017_avg = final_combined['ebrw_sat_2017'].mean()\n",
    "ebrw_2018_avg = final_combined['ebrw_sat_2018'].mean()\n",
    "print('The average EBRW score in 2017 was {:.0f}. In 2018, the average is {:.0f}.'.format(ebrw_2017_avg, ebrw_2018_avg))\n",
    "print('{} states improved their EBRW scores in 2018, {:.0f}% of all states.'\n",
    "      .format(states_sat_ebrw_up, round(states_sat_ebrw_up/51,2)*100))"
   ]
  },
  {
   "cell_type": "code",
   "execution_count": null,
   "metadata": {},
   "outputs": [],
   "source": [
    "# EBRW\n",
    "states_sat_math_up = len(final_combined.loc[final_combined['math_sat_chg']>0])\n",
    "math_2017_avg = final_combined['math_sat_2017'].mean()\n",
    "math_2018_avg = final_combined['math_sat_2018'].mean()\n",
    "print('The average math score in 2017 was {:.0f}. In 2018, the average is {:.0f}.'.format(math_2017_avg, math_2018_avg))\n",
    "print('{} states improved their math scores in 2018, {:.0f}% of all states.'\n",
    "      .format(states_sat_math_up, round(states_sat_math_up/51,2)*100))"
   ]
  },
  {
   "cell_type": "markdown",
   "metadata": {},
   "source": [
    "#### (Optional): Using Tableau, create a choropleth map for each variable using a map of the US. \n",
    "\n",
    "Save this plot as an image file in an images directory, provide a relative path, and insert the image into notebook in markdown."
   ]
  },
  {
   "cell_type": "markdown",
   "metadata": {},
   "source": [
    "### SAT Participation in 2018\n",
    "<img src=\"../images/sat part 2018.png\">\n",
    "\n",
    "### ACT Participation in 2018\n",
    "<img src=\"../images/act part 2018.png\">"
   ]
  },
  {
   "cell_type": "markdown",
   "metadata": {},
   "source": [
    "- "
   ]
  },
  {
   "cell_type": "markdown",
   "metadata": {},
   "source": [
    "## Descriptive and Inferential Statistics"
   ]
  },
  {
   "cell_type": "markdown",
   "metadata": {},
   "source": [
    "#### Summarizing Distributions\n",
    "\n",
    "Above, we used pandas `describe` to provide quick summary statistics of our numeric columns. We also demonstrated many visual relationships.\n",
    "\n",
    "As data scientists, having a complete understanding of data is imperative prior to modeling.\n",
    "\n",
    "While we will continue to build our analytic tools, we know that measures of *central tendency*, *spread*, and *shape/skewness* provide a quick summary of distributions.\n",
    "\n",
    "For each variable in your data, summarize the underlying distributions (in words & statistics)\n",
    " - Be thorough in your verbal description of these distributions.\n",
    " - Be sure to back up these summaries with statistics."
   ]
  },
  {
   "cell_type": "markdown",
   "metadata": {},
   "source": [
    "#### Participation Rates\n",
    "- **2017 SAT participation:** Right skew with more states on the lower range of the distribution, and a low median value of 38%. Small inter-quartile range of 62% with a value of 66% at the upper quartile.\n",
    "\n",
    "\n",
    "- **2018 SAT participation:** Distribution is becoming a U shape as more states achieve 100% participation. Higher median value of 52%, higher inter-quartile range of 73% and a higher upper quartile value of 73%.\n",
    "\n",
    "\n",
    "- **2017 ACT participation:** Left skew with peak at 100% participation and a small bump between 20% and 40%. High median participation of 69%. Participation at upper quartile is at maximum of 100%.\n",
    "\n",
    "\n",
    "- **2018 ACT participation:** Also left skew with peak at 100%. Median participation dropped from 69% in 2017 to 66% in 2018. Upper quartile is at maximum of 100% but lower quartile dropped to 28%."
   ]
  },
  {
   "cell_type": "code",
   "execution_count": null,
   "metadata": {},
   "outputs": [],
   "source": [
    "final_combined[['part_sat_2017','part_sat_2018','part_act_2017','part_act_2018']].describe()"
   ]
  },
  {
   "cell_type": "code",
   "execution_count": null,
   "metadata": {},
   "outputs": [],
   "source": [
    "final_combined[['total_sat_2017','total_sat_2018']].describe()"
   ]
  },
  {
   "cell_type": "markdown",
   "metadata": {},
   "source": [
    "\n",
    "#### Distributions in the data\n",
    "\n",
    "In this dataset, each data represents a sample from a population.                        \n",
    "For example, for ACT math test:\n",
    "- Population: the test results of all the students who take this test, nation-wide.\n",
    "- Population mean: is the national average of ACT math test (total scores/total no. of test takers) \n",
    "- Sample: the state means of ACT math test. We have 51 samples (51 states)\n",
    "\n",
    "***According to CLT, we generally assuming that data we sample from a population will be normally distributed. Do we observe this trend?***"
   ]
  },
  {
   "cell_type": "markdown",
   "metadata": {},
   "source": [
    "**Answer**: No, the histogram does not look normally distributed. There are only 51 sample means that were taken for a year."
   ]
  },
  {
   "cell_type": "markdown",
   "metadata": {},
   "source": [
    "Does This Assumption Hold for:\n",
    "    - Math\n",
    "    - Reading\n",
    "    - Rates\n",
    "Explain your answers for each distribution and how you think this will affect estimates made from these data."
   ]
  },
  {
   "cell_type": "markdown",
   "metadata": {},
   "source": [
    "**Answer**: Yes, the same applies to subject scores as well. Participation rates also needs to be considered as a factor in understanding subject scores. For example, if only 10% participated, there could be bias in the type of students who took the test."
   ]
  },
  {
   "cell_type": "markdown",
   "metadata": {},
   "source": [
    "#### Estimate Limits of Data\n",
    "\n",
    "Suppose we only seek to understand the relationship between SAT and ACT participation rates in 2017. \n",
    "\n",
    "##### Does it make sense to conduct statistical inference given these data specifically? \n",
    "\n",
    "Why or why not?\n",
    "\n",
    "*(think about granularity, aggregation, the relationships between populations size & rates...consider the actually populations these data describe in answering this question)*"
   ]
  },
  {
   "cell_type": "markdown",
   "metadata": {},
   "source": [
    "**Answer**: Yes, it makes sense to conduct statistical inference with the participation rates in 2017 as these results are the true value of the population. This is not a sample result but the actual population mean."
   ]
  },
  {
   "cell_type": "markdown",
   "metadata": {},
   "source": [
    "##### Is it appropriate to compare *these* specific SAT and ACT math scores  - can we say students with higher SAT math score is better than those with lower ACT math score, or vice versa?\n",
    "\n",
    "Why or why not?"
   ]
  },
  {
   "cell_type": "markdown",
   "metadata": {},
   "source": [
    "**Answer**: No, the scores are not comparable since the actual questions of two test are different. The scales for the two test are also different."
   ]
  },
  {
   "cell_type": "markdown",
   "metadata": {},
   "source": [
    "#### Statistical Evaluation of Distributions \n",
    "\n",
    "**If you feel it's appropriate**, using methods we discussed in class, run hypothesis tests to compare variables of interest in our dataset. "
   ]
  },
  {
   "cell_type": "markdown",
   "metadata": {},
   "source": [
    "## Hypothesis Testing"
   ]
  },
  {
   "cell_type": "markdown",
   "metadata": {},
   "source": [
    "**GOAL**: To tell if SAT Total scores have changed. We define \"improve\" as whether or not the math score has gone up or down, on average.\n",
    "\n",
    "**Hypothesis**: SAT Total scores have changed.\n",
    "\n",
    "**Significance level**: $\\alpha = 0.05$\n",
    "\n",
    "Set up null and alternative hypotheses.\n",
    "\n",
    "$$ H_0: \\mu_\\text{2018} - \\mu_\\text{2017} = 0 $$\n",
    "$$ H_A: \\mu_\\text{2018} - \\mu_\\text{2017} \\ne 0 $$"
   ]
  },
  {
   "cell_type": "code",
   "execution_count": null,
   "metadata": {},
   "outputs": [],
   "source": [
    "from scipy import stats\n",
    "sat_total_2017 = final_combined['total_sat_2017']\n",
    "sat_total_2018 = final_combined['total_sat_2018']\n",
    "print(sat_total_2017.mean(), sat_total_2017.var())\n",
    "print(sat_total_2018.mean(), sat_total_2018.var())"
   ]
  },
  {
   "cell_type": "code",
   "execution_count": null,
   "metadata": {},
   "outputs": [],
   "source": [
    "t_stat, p_value = stats.ttest_ind(sat_total_2017, sat_total_2018, equal_var=False)\n",
    "p_value"
   ]
  },
  {
   "cell_type": "markdown",
   "metadata": {},
   "source": [
    "> Since p-value is 0.94, which is not less than 0.05, we cannot reject our null hypothesis. We do not have sufficient evidence to conclude that SAT math scores in 2018 is better or worse than in 2017."
   ]
  },
  {
   "cell_type": "markdown",
   "metadata": {},
   "source": [
    "**GOAL**: To tell if ACT English scores have changed. We define \"change\" as whether or not the English score has gone up or down, on average.\n",
    "\n",
    "**Hypothesis**: ACT English scores have changed.\n",
    "\n",
    "**Significance level**: $\\alpha = 0.05$\n",
    "\n",
    "Set up null and alternative hypotheses.\n",
    "\n",
    "$$ H_0: \\mu_\\text{2018} - \\mu_\\text{2017} = 0 $$\n",
    "$$ H_A: \\mu_\\text{2018} - \\mu_\\text{2017} \\ne 0 $$"
   ]
  },
  {
   "cell_type": "code",
   "execution_count": null,
   "metadata": {},
   "outputs": [],
   "source": [
    "act_english_2017 = final_combined['english_act_2017']\n",
    "act_english_2018 = final_combined['english_act_2018']\n",
    "print(act_english_2017.mean(), act_english_2017.var())\n",
    "print(act_english_2018.mean(), act_english_2018.var())"
   ]
  },
  {
   "cell_type": "code",
   "execution_count": null,
   "metadata": {},
   "outputs": [],
   "source": [
    "t_stat, p_value = stats.ttest_ind(act_english_2017, act_english_2018, equal_var=False)\n",
    "p_value"
   ]
  },
  {
   "cell_type": "markdown",
   "metadata": {},
   "source": [
    "> Since p-value is 0.90, which is > 0.05, we cannot reject our null hypothesis. We do not have sufficient evidence to conclude that the ACT English scores in 2018 is different from 2017."
   ]
  },
  {
   "cell_type": "markdown",
   "metadata": {},
   "source": [
    "## Outside Research"
   ]
  },
  {
   "cell_type": "markdown",
   "metadata": {},
   "source": [
    "Based upon your observations, choose **three** states that demonstrate interesting trends in their SAT and/or ACT participation rates. Spend some time doing outside research on state policies that might influence these rates, and summarize your findings below. **Feel free to go back and create new plots that highlight these states of interest**. If you bring in any outside tables or charts, make sure you are explicit about having borrowed them. If you quote any text, make sure that it renders as being quoted. (Make sure that you cite your sources -- check with you local instructor for citation preferences)."
   ]
  },
  {
   "cell_type": "markdown",
   "metadata": {},
   "source": [
    "**The 3 states showing swings in participation rates are `Illinois`, `Colorado` and `Florida`.**\n",
    "- Illinois had increased SAT participation from 9% to 99%. The change was a result of a [partnership](https://www.chicagotribune.com/news/ct-illinois-chooses-sat-met-20160211-story.html) between the state of Illinois and the College Board to administer the SAT to all Illinois students. The move to SAT in 2017 also caused a 50% drop in participation in ACT, from 93% in 2017 to 43% in 2018.  \n",
    "\n",
    "\n",
    "- Colorado had increased SAT participation from 11% to 100%. This is also due to a partnership between the state of Colorado and the College Board. Similarly, the move to SAT for the state caused a significant drop of 70% in ACT's participation rate, from 100% to 30%. Seems like there is still a good 30% of students who also wanted to take the ACT. This group are most likely the better performing students wanting to get both ACT and SAT accreditation.\n",
    "\n",
    "\n",
    "- Florida's SAT participation had **dropped** from 83% to 56%. Interestingly, ACT participation also dropped, albeit by a smaller margin, from 73% to 66%. A check on [Florida's participation in 2018](https://reports.collegeboard.org/pdf/2018-florida-sat-suite-assessments-annual-report.pdf) revealed a data error in the record. It should be 97% participation in 2018 instead of 56%. So there is actually a 16% increase in SAT participation for Florida in 2018. Unlike the states of Illinois and Colorado, Florida did not have a former partnership with the College Board. The increase could be due to several reasons as reported by this [article from Orlando Sentinel](https://www.orlandosentinel.com/news/education/os-ne-act-sat-florida-scores-20181024-story.html). Some of the reasons include being able to take the exam during a regular school day, exam cost being covered by the school and College Board partnering with Khan Academy to provide free, online SAT review lessons and practice tests."
   ]
  },
  {
   "cell_type": "code",
   "execution_count": null,
   "metadata": {},
   "outputs": [],
   "source": [
    "final_combined.loc[final_combined['state'].isin(['Illinois', 'Colorado', 'Florida']),['state','part_sat_2017','part_sat_2018','part_act_2017', 'part_act_2018']]"
   ]
  },
  {
   "cell_type": "code",
   "execution_count": null,
   "metadata": {},
   "outputs": [],
   "source": [
    "final_combined.loc[final_combined['state']=='Florida']"
   ]
  },
  {
   "cell_type": "markdown",
   "metadata": {},
   "source": [
    "**Did Florida improve in both EBRW and Math scores?**"
   ]
  },
  {
   "cell_type": "code",
   "execution_count": null,
   "metadata": {},
   "outputs": [],
   "source": [
    "final_combined.loc[final_combined['state']=='Florida', ['state', 'math_sat_chg', 'ebrw_sat_chg']]"
   ]
  },
  {
   "cell_type": "markdown",
   "metadata": {},
   "source": [
    "## Conclusions and Recommendations"
   ]
  },
  {
   "cell_type": "markdown",
   "metadata": {},
   "source": [
    "Based on your exploration of the data, what are you key takeaways and recommendations? Choose one state with a lower participation rate and provide a suggestion for how the College Board might increase participation amongst graduating seniors in this state. Are there additional data you desire that would better inform your investigations?"
   ]
  },
  {
   "cell_type": "code",
   "execution_count": null,
   "metadata": {},
   "outputs": [],
   "source": [
    "final_combined[['state','part_sat_2018', 'part_act_2018']].sort_values('part_sat_2018').head()"
   ]
  },
  {
   "cell_type": "markdown",
   "metadata": {},
   "source": [
    "- North Dakota has the lowest SAT participation rate in 2018, only 2%."
   ]
  },
  {
   "cell_type": "code",
   "execution_count": null,
   "metadata": {},
   "outputs": [],
   "source": [
    "final_combined[['state','total_sat_2018','composite_act_2018']].sort_values('total_sat_2018',ascending=False).head()"
   ]
  },
  {
   "cell_type": "markdown",
   "metadata": {},
   "source": [
    "- North Dakota is ranked 3rd in 2018 with an SAT score of 1283"
   ]
  },
  {
   "cell_type": "code",
   "execution_count": null,
   "metadata": {},
   "outputs": [],
   "source": [
    "# Check ranking of SAT and ACT scores\n",
    "final_combined[['total_sat_2018','composite_act_2018']].rank(ascending=False).loc[34]"
   ]
  },
  {
   "cell_type": "markdown",
   "metadata": {},
   "source": [
    "- North Dakota is ranked 32nd in 2018 for its ACT score of 20.3"
   ]
  },
  {
   "cell_type": "code",
   "execution_count": null,
   "metadata": {},
   "outputs": [],
   "source": [
    "# Update the SAT participation rate in 2018 to 97% and update the part_sat_chg column\n",
    "final_combined.loc[final_combined['state']=='Florida','part_sat_2018'] = 97\n",
    "final_combined['part_sat_chg'] = final_combined['part_sat_2018'] - final_combined['part_sat_2017']"
   ]
  },
  {
   "cell_type": "code",
   "execution_count": null,
   "metadata": {},
   "outputs": [],
   "source": [
    "# create a list of columns for reviewing\n",
    "review_list = ['state','total_sat_2018','part_sat_chg','part_act_chg','total_sat_chg','composite_act_chg']\n",
    "review = final_combined[review_list]"
   ]
  },
  {
   "cell_type": "code",
   "execution_count": null,
   "metadata": {},
   "outputs": [],
   "source": [
    "# Among the 3 states which increased their SAT participation, which state also improved their SAT scores\n",
    "review[review['state'].isin(['Florida', 'Illinois', 'Colorado'])]"
   ]
  },
  {
   "cell_type": "markdown",
   "metadata": {},
   "source": [
    "- **Only Florida improved while Colorado and Illinois saw quite a hugh drop in total scores.**"
   ]
  },
  {
   "cell_type": "code",
   "execution_count": null,
   "metadata": {},
   "outputs": [],
   "source": [
    "review.mean()"
   ]
  },
  {
   "cell_type": "code",
   "execution_count": null,
   "metadata": {},
   "outputs": [],
   "source": [
    "review.sort_values('total_sat_chg', ascending=False).head()"
   ]
  },
  {
   "cell_type": "markdown",
   "metadata": {},
   "source": [
    "### Conclusion:\n",
    "Taking Florida as an example, it is the most improved state in 2018 for SAT Total score, even after increasing their participation in SAT from 83% to 97%. The other two states Colorado and Illinois which had SAT mandated as the exam by the state did not see the same success. How did Florida achieve that?\n",
    "\n",
    "There was already a high participation rate of 83% in 2017 for Florida. Through the partnership with Khan Academy, students could now make use of the free, online lessons and practice tests to help prepare for the SAT. With better preparation, their scores have improved.\n",
    "\n",
    "### Recommendation:\n",
    "For North Dakota, SAT participation in 2018 is at only 2% but it is among top-5 states with most improved SAT total scores. The students who have taken the SAT test must have benefitted from the Khan Academy resources provided as well.\n",
    "\n",
    "To increase SAT participation in North Dakota, I will recommend the following:\n",
    "1. Use Florida as a successful case study to emulate.\n",
    "\n",
    "\n",
    "2. Do not partner with the state of North Dakota to make it the default exam, as proven by Illinois and Colorado which saw their SAT scores take a hugh drop. This will instill a negative sentiment towards taking the SAT.\n",
    "\n",
    "\n",
    "3. Promote the **importance of learning** and highlight the availability of online resources like **Khan Academy**, that SAT has made available to help them do well in the SAT.\n",
    "\n",
    "\n",
    "4. Sweeten the deal by arranging with schools to allow students to take SAT during a regular school day."
   ]
  },
  {
   "cell_type": "code",
   "execution_count": null,
   "metadata": {},
   "outputs": [],
   "source": []
  }
 ],
 "metadata": {
  "anaconda-cloud": {},
  "kernelspec": {
   "display_name": "Python 3",
   "language": "python",
   "name": "python3"
  },
  "language_info": {
   "codemirror_mode": {
    "name": "ipython",
    "version": 3
   },
   "file_extension": ".py",
   "mimetype": "text/x-python",
   "name": "python",
   "nbconvert_exporter": "python",
   "pygments_lexer": "ipython3",
   "version": "3.6.12"
  },
  "varInspector": {
   "cols": {
    "lenName": 16,
    "lenType": 16,
    "lenVar": 40
   },
   "kernels_config": {
    "python": {
     "delete_cmd_postfix": "",
     "delete_cmd_prefix": "del ",
     "library": "var_list.py",
     "varRefreshCmd": "print(var_dic_list())"
    },
    "r": {
     "delete_cmd_postfix": ") ",
     "delete_cmd_prefix": "rm(",
     "library": "var_list.r",
     "varRefreshCmd": "cat(var_dic_list()) "
    }
   },
   "types_to_exclude": [
    "module",
    "function",
    "builtin_function_or_method",
    "instance",
    "_Feature"
   ],
   "window_display": false
  }
 },
 "nbformat": 4,
 "nbformat_minor": 2
}
