{
 "cells": [
  {
   "cell_type": "markdown",
   "metadata": {},
   "source": [
    "## Deploying the Production Model\n",
    "The production model has been saved and will be imported in this file to simulate its deployment at the supermarket."
   ]
  },
  {
   "cell_type": "code",
   "execution_count": 1,
   "metadata": {
    "ExecuteTime": {
     "end_time": "2021-01-21T13:57:22.747027Z",
     "start_time": "2021-01-21T13:57:19.716402Z"
    }
   },
   "outputs": [],
   "source": [
    "# import time\n",
    "import pickle\n",
    "import numpy as np\n",
    "import pandas as pd\n",
    "import matplotlib.pyplot as plt\n",
    "from IPython.display import clear_output\n",
    "from PIL import Image, ImageOps\n",
    "\n",
    "from tensorflow.keras.applications import VGG16\n",
    "from tensorflow.keras.models import load_model\n",
    "\n",
    "# import the opencv library to access the camera\n",
    "import cv2"
   ]
  },
  {
   "cell_type": "markdown",
   "metadata": {},
   "source": [
    "### Define Functions"
   ]
  },
  {
   "cell_type": "code",
   "execution_count": 2,
   "metadata": {
    "ExecuteTime": {
     "end_time": "2021-01-21T13:57:23.892972Z",
     "start_time": "2021-01-21T13:57:23.873026Z"
    }
   },
   "outputs": [],
   "source": [
    "# This function presents the top-2 predictions, together with similar vegetables if any, for the consumer to choose from\n",
    "def selectFromDict(pred):\n",
    "    inputValid = False\n",
    "    veg_list = []\n",
    "    while not inputValid:\n",
    "        print('Is it:')\n",
    "        count = 0\n",
    "        for idx in range(2):\n",
    "            count += 1\n",
    "            veg_list.append(pred.index[idx])\n",
    "            #veg_list.append(pred.index[idx] + f' ({np.round(pred.values[idx]*100,0)}%)')\n",
    "            \n",
    "            # Are there any similar vegetable\n",
    "            if similar_df.loc[pred.index[idx],'similar']!=\"none\":\n",
    "                veg_list.append(similar_df.loc[pred.index[idx],'similar'])\n",
    "        \n",
    "        # List vegetables options\n",
    "        for idx in range(len(veg_list)):\n",
    "            print(f'{idx+1}) {veg_list[idx]}')\n",
    "        \n",
    "        # Add a scan again option\n",
    "        scan_again = len(veg_list) + 1\n",
    "        print(f'{len(veg_list)+1}) Scan again')\n",
    "                  \n",
    "        try:\n",
    "            choice = int(input('Choose one: '))\n",
    "            if choice==scan_again:\n",
    "                selected = \"\"\n",
    "                inputValid = True\n",
    "            elif 0<choice<scan_again:\n",
    "                selected = veg_list[choice-1]\n",
    "                inputValid = True\n",
    "            else:\n",
    "                clear_output(wait=True)\n",
    "        except:\n",
    "            clear_output(wait=True)\n",
    "    \n",
    "    clear_output(wait=True)        \n",
    "    return selected\n",
    "\n",
    "# This function prints the label upon confirming the choice\n",
    "def print_label(veg, weight):\n",
    "    price_per_kg = price_df.loc[veg,'price_per_kg']\n",
    "    total_price = price_per_kg * weight \n",
    "    print(veg + '\\n' + '-' * 30)\n",
    "    print(f'PRICE/KG: ${price_per_kg}')\n",
    "    print(f'WEIGHT: {np.round(weight,3)} kg')\n",
    "    print(f'TOTAL PRICE: ${np.round(total_price,2)}')"
   ]
  },
  {
   "cell_type": "markdown",
   "metadata": {},
   "source": [
    "### Load the Production Model\n",
    "The production model, VGG16 and imagenet weights and vegetable classes are loaded."
   ]
  },
  {
   "cell_type": "code",
   "execution_count": 7,
   "metadata": {
    "ExecuteTime": {
     "end_time": "2021-01-21T14:07:14.578446Z",
     "start_time": "2021-01-21T14:07:14.002016Z"
    }
   },
   "outputs": [],
   "source": [
    "# load production model\n",
    "model_prod = load_model('./models/prod_model.hdf5')\n",
    "\n",
    "# Load imagenet weights \n",
    "conv_base = VGG16(weights='imagenet', \n",
    "                  include_top=False,\n",
    "                  input_shape=(100, 100, 3))  # 3 = number of channels in RGB pictures\n",
    "\n",
    "# Load the classes\n",
    "infile = open('./models/veg_class.pkl','rb')\n",
    "veg_df = pickle.load(infile)\n",
    "infile.close()\n",
    "\n",
    "# Load the vegetable prices\n",
    "price_df = pd.read_csv('./datasets/price_per_kg.csv', index_col=0)\n",
    "\n",
    "# Load the similar vegetables file\n",
    "similar_df = pd.read_csv('./datasets/similar_vegetables.csv', index_col=0)"
   ]
  },
  {
   "cell_type": "markdown",
   "metadata": {},
   "source": [
    "### Simulating the Deployment\n",
    "The picture below shows how a weighing scale is placed at the supermarket."
   ]
  },
  {
   "cell_type": "markdown",
   "metadata": {
    "ExecuteTime": {
     "end_time": "2021-01-19T02:38:30.781857Z",
     "start_time": "2021-01-19T02:38:30.763902Z"
    }
   },
   "source": [
    "<img src=\"./images_for_notebook/scale.jpg\" alt=\"Weighing scale at NTUC\" width=\"250\" align=\"left\" style=\"margin:5px 50px\"/>\n",
    "\n",
    "For our deployment, a pinhole camera can be attached to the weighing scale, looking down vertically on the items placed on the scale. The process should be as follows:\n",
    "\n",
    "1. First, place the item on the scale.\n",
    "\n",
    "\n",
    "2. Upon detecting the change in weight, the scale will activate the camera to do a scan.\n",
    "\n",
    "\n",
    "3. An image is taken and passed to the model for prediction.\n",
    "\n",
    "\n",
    "4. The top-2 predicted items can be presented for the consumer to select from.\n",
    "\n",
    "\n",
    "5. Upon confirming the item, a label depicting the item description, price per kg and weight will be printed."
   ]
  },
  {
   "cell_type": "code",
   "execution_count": 8,
   "metadata": {
    "ExecuteTime": {
     "end_time": "2021-01-21T14:08:14.716914Z",
     "start_time": "2021-01-21T14:07:17.430578Z"
    },
    "scrolled": false
   },
   "outputs": [
    {
     "name": "stdout",
     "output_type": "stream",
     "text": [
      "broccoli\n",
      "------------------------------\n",
      "PRICE/KG: $7.57\n",
      "WEIGHT: 0.793 kg\n",
      "TOTAL PRICE: $6.0\n"
     ]
    }
   ],
   "source": [
    "### Start the camera\n",
    "cam = cv2.VideoCapture(0)\n",
    "\n",
    "size = (100,100)\n",
    "font = cv2.FONT_HERSHEY_DUPLEX\n",
    "\n",
    "tag1 = \"\"\n",
    "tag2 = \"\"\n",
    "\n",
    "while True:\n",
    "    \n",
    "    ret, frame = cam.read()\n",
    "    # OpenCV uses BGR as its default colour order for images, convert frame back to RGB for display and prediction\n",
    "    frame_rgb = cv2.cvtColor(frame, cv2.COLOR_BGR2RGB)\n",
    "    \n",
    "    cv2.putText(frame, \"1. Press <Space> to Scan\",(10, 10),font,fontScale=0.4,color=(0,255,0))\n",
    "    cv2.putText(frame, \"2. Press <Esc> to End\",(10, 25),font,fontScale=0.4,color=(0,255,0))\n",
    "    \n",
    "    k = cv2.waitKey(10)\n",
    "\n",
    "    if k==32:\n",
    "        # SPACE pressed                \n",
    "        h,w = frame_rgb.shape[:2]\n",
    "\n",
    "        # Crop to square and resize to 100x100\n",
    "        if w>h:\n",
    "            crop = int(np.round((w-h)/2,0))\n",
    "            pic = frame_rgb[0:h, crop:w-crop]\n",
    "            pic = cv2.resize(pic,size)\n",
    "        elif w==h:\n",
    "            pic = cv2.resize(frame_rgb,size)\n",
    "        else:\n",
    "            crop = int(np.round((h-w)/2,0))\n",
    "            pic = frame_rgb[crop:h-crop, 0:w]\n",
    "            pic = cv2.resize(pic,size)\n",
    "            \n",
    "        pic = np.array(pic)/255\n",
    "        \n",
    "        # Display the captured image used for prediction\n",
    "        plt.imshow(pic)\n",
    "        plt.show()\n",
    "\n",
    "        pic = pic.reshape(1,100,100,3)\n",
    "        \n",
    "        # Extract features for image\n",
    "        features = conv_base.predict(pic)\n",
    "        pred = pd.Series(model_prod.predict(features)[0], index=veg_df.index).sort_values(ascending=False)[:2]\n",
    "        pred_class = pred.index[0]\n",
    "        pred_prob = pred.values[0]\n",
    "\n",
    "        # Show label on image frame\n",
    "        tag1 = f'{pred.index[0]}' + f'({np.round(pred.values[0]*100,0)}%)'\n",
    "        tag2 = f'{pred.index[1]}' + f'({np.round(pred.values[1]*100,0)}%)'\n",
    "        \n",
    "        veg = selectFromDict(pred)\n",
    "        clear_output(wait=True)\n",
    "        if veg!=\"\":\n",
    "            print_label(veg, np.random.rand())\n",
    "        \n",
    "    if k==27:\n",
    "        # ESC pressed\n",
    "        break\n",
    "    \n",
    "    # Show the predictions on screen\n",
    "    # cv2.putText(frame, tag1,(10, 55),font,fontScale=0.7,color=(0,255,0))\n",
    "    # cv2.putText(frame, tag2,(10, 75),font,fontScale=0.7,color=(0,255,0))\n",
    "    cv2.imshow(\"test\", frame)\n",
    "\n",
    "# Once the camera is released, close the image\n",
    "cam.release()\n",
    "cv2.destroyAllWindows()"
   ]
  },
  {
   "cell_type": "code",
   "execution_count": 45,
   "metadata": {
    "ExecuteTime": {
     "end_time": "2021-01-21T11:55:21.162388Z",
     "start_time": "2021-01-21T11:55:20.871553Z"
    }
   },
   "outputs": [],
   "source": [
    "# Run this in case camera becomes unresponsive\n",
    "cam.release()\n",
    "cv2.destroyAllWindows()"
   ]
  },
  {
   "cell_type": "code",
   "execution_count": null,
   "metadata": {},
   "outputs": [],
   "source": []
  }
 ],
 "metadata": {
  "kernelspec": {
   "display_name": "tf-gpu",
   "language": "python",
   "name": "tf-gpu"
  },
  "language_info": {
   "codemirror_mode": {
    "name": "ipython",
    "version": 3
   },
   "file_extension": ".py",
   "mimetype": "text/x-python",
   "name": "python",
   "nbconvert_exporter": "python",
   "pygments_lexer": "ipython3",
   "version": "3.6.12"
  },
  "toc": {
   "base_numbering": 1,
   "nav_menu": {},
   "number_sections": false,
   "sideBar": false,
   "skip_h1_title": false,
   "title_cell": "Table of Contents",
   "title_sidebar": "Contents",
   "toc_cell": false,
   "toc_position": {},
   "toc_section_display": true,
   "toc_window_display": false
  }
 },
 "nbformat": 4,
 "nbformat_minor": 4
}
